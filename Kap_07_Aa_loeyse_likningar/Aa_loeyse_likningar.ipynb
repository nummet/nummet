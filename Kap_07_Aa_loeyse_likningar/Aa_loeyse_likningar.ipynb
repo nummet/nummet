{
 "cells": [
  {
   "cell_type": "markdown",
   "id": "7cf4fd27-5413-42dc-ac44-7da633131098",
   "metadata": {},
   "source": [
    "# Kapittel 7"
   ]
  },
  {
   "cell_type": "code",
   "execution_count": 1,
   "id": "ed3f53c8-37d6-4397-a4d5-0a46f333fe1d",
   "metadata": {},
   "outputs": [],
   "source": [
    "# Importerar bibliotek\n",
    "import numpy as np\n",
    "\n",
    "np.set_printoptions(linewidth=400, precision=4, floatmode='fixed', suppress=True)"
   ]
  },
  {
   "cell_type": "code",
   "execution_count": 2,
   "id": "3bd2e221-49c7-4d2c-aabf-a0eada0569dd",
   "metadata": {},
   "outputs": [
    {
     "name": "stdout",
     "output_type": "stream",
     "text": [
      "x = 2.2360611\n",
      "iterasjonar = 17\n"
     ]
    }
   ],
   "source": [
    "# Implementering av halveringsmetoden for likninga f(x)=0 der \n",
    "# f er kontinuerleg på [a,b] og f(a) og f(b) har ulike forteikn.\n",
    "\n",
    "# Grenser\n",
    "a = 1\n",
    "b = 3\n",
    "\n",
    "def null_funk(x):\n",
    "    \"\"\"Gir funksjonen som skal vere null\"\"\"\n",
    "    return x**4 - 4*x**2 - 5\n",
    "\n",
    "# Funksjonsverdiar\n",
    "fa = null_funk(a)\n",
    "fb = null_funk(b)\n",
    "\n",
    "# Initierer variabel som tel iterasjonane\n",
    "iterasjonar = 0\n",
    "\n",
    "# while-løkke for halveringsmetoden\n",
    "while b-a > 2e-5:\n",
    "    c = (a+b)/2          # Midtpunktet\n",
    "    fc = null_funk(c)    # Funksjonsverdi i midtpunktet\n",
    "    if fa*fc < 0:\n",
    "        b = c            # Set ny b til c\n",
    "    else:\n",
    "        a = c            # Set ny a til c\n",
    "    iterasjonar = iterasjonar + 1  # Tel iterasjonane\n",
    "\n",
    "# Reknar ut nytt midtpunkt og skriv svaret til skjerm\n",
    "x = (a+b)/2\n",
    "print(f'x = {x:.7f}')\n",
    "\n",
    "# Skriv talet på iterasjonar til skjerm\n",
    "print(f'iterasjonar = {iterasjonar}')"
   ]
  },
  {
   "cell_type": "code",
   "execution_count": 8,
   "id": "474b70fb-4362-40d9-86c1-5099b98b5063",
   "metadata": {},
   "outputs": [
    {
     "name": "stdout",
     "output_type": "stream",
     "text": [
      "x = 0.64171\n",
      "iterasjonar = 4\n"
     ]
    }
   ],
   "source": [
    "# Skript som implementerer Newtons metode\n",
    "\n",
    "# Bestemmer x_0\n",
    "x = 1\n",
    "\n",
    "# Presisjon\n",
    "pres = 1e-5\n",
    "\n",
    "# Initerer talet på iterasjonar\n",
    "iterasjonar = 0\n",
    "\n",
    "# Lagar ein variabel for \"gamal\" x-verdi (tilfeldig tal)\n",
    "x_gml = 100\n",
    "\n",
    "while abs(x-x_gml) > pres:\n",
    "    # Kopierer den gamle x\n",
    "    x_gml = x\n",
    "    # Iterasjonsskjema\n",
    "    x = x-(np.sqrt(x)-np.cos(x)) / \\\n",
    "        (1/(2*np.sqrt(x))+np.sin(x))\n",
    "    # Tel iterasjonar\n",
    "    iterasjonar = iterasjonar+1\n",
    "\n",
    "# Skriv svaret til skjerm\n",
    "print(f'x = {x:.5f}')\n",
    "\n",
    "# Skriv talet på iterasjonar til skjerm\n",
    "print(f'iterasjonar = {iterasjonar}')"
   ]
  },
  {
   "cell_type": "code",
   "execution_count": 9,
   "id": "72319479-f3b9-4a24-9901-a4f62a78824a",
   "metadata": {},
   "outputs": [
    {
     "name": "stdout",
     "output_type": "stream",
     "text": [
      "x = 0.29193\n",
      "x = 0.91717\n",
      "x = 0.36975\n",
      "x = 0.86941\n",
      "x = 0.41639\n",
      "x = 0.83641\n",
      "x = 0.44907\n"
     ]
    }
   ],
   "source": [
    "# Skript som forsøker å løsye ei likning ved \n",
    "# fikspunktiterasjon, x_{n+1}=f(x_n)\n",
    "\n",
    "# Start-verdi\n",
    "x = 1\n",
    "\n",
    "for i in range(1, 8):\n",
    "    x = (np.cos(x))**2     # Iterasjonsformel\n",
    "    print(f'x = {x:.5f}')    "
   ]
  },
  {
   "cell_type": "code",
   "execution_count": 10,
   "id": "4c30ece1-0046-4908-9646-287284ef5cbc",
   "metadata": {},
   "outputs": [
    {
     "name": "stdout",
     "output_type": "stream",
     "text": [
      "n = 23\n"
     ]
    }
   ],
   "source": [
    "# Skript som reknar ut kor mange elevar det må vere i ein\n",
    "# skuleklasse for at der mest sannsynleg vil vere minst to\n",
    "# elevar med bursdag på same dag.\n",
    "#\n",
    "# p er sannsynet for at alle elevane har bursdagar\n",
    "# på ulike datoar\n",
    "# n er talet på elevar\n",
    "\n",
    "# Initierer p og n\n",
    "p = 1\n",
    "n = 0\n",
    "\n",
    "while p > 1/2:\n",
    "    n = n+1                   # Aukar elevtalet\n",
    "    p = p*(365-n+1)/365       # Oppdaterer sannsyn\n",
    "\n",
    "# Skriv resultatet til skjerm\n",
    "print(f'n = {n}')"
   ]
  },
  {
   "cell_type": "code",
   "execution_count": 16,
   "id": "a3e44b21-f58c-4d41-9abe-b2d3f305a82b",
   "metadata": {},
   "outputs": [
    {
     "name": "stdout",
     "output_type": "stream",
     "text": [
      "[-0.3022+0.0000j  0.0511-0.5730j  0.0511+0.5730j]\n",
      "[nan+nanj nan+nanj nan+nanj]\n",
      "[nan+nanj nan+nanj nan+nanj]\n"
     ]
    },
    {
     "name": "stderr",
     "output_type": "stream",
     "text": [
      "/tmp/ipykernel_29173/2626989611.py:21: RuntimeWarning: invalid value encountered in divide\n",
      "  x = -1/(3*a)*(b+u*C+delta_0/(u*C))\n",
      "/tmp/ipykernel_29173/2626989611.py:21: RuntimeWarning: divide by zero encountered in divide\n",
      "  x = -1/(3*a)*(b+u*C+delta_0/(u*C))\n",
      "/tmp/ipykernel_29173/2626989611.py:21: RuntimeWarning: invalid value encountered in multiply\n",
      "  x = -1/(3*a)*(b+u*C+delta_0/(u*C))\n"
     ]
    }
   ],
   "source": [
    "def tredjegrads_funk(a,b,c,d):\n",
    "    \"\"\"Funksjon som løyser tredjegradslikninga   \n",
    "    ax^3+bx^2+cx+d=0.\n",
    "    Input er koeffisientane a, b, c, d.\n",
    "    Funksjonen gir dei tre løysingane x_1, x_2 og x_3\n",
    "    som output.\n",
    "    \"\"\"\n",
    "    \n",
    "    # Tilordnar parametrar som inngår i løysingsformelen\n",
    "    # Vektor med u_1, u_2 og u_3:\n",
    "    u = np.array([1, complex(-1, np.sqrt(3))/2, \n",
    "                  complex(-1, -np.sqrt(3))/2])\n",
    "    delta_0 = b**2-3*a*c\n",
    "    delta_1 = 2*b**3-9*a*b*c+27*a**2*d\n",
    "    \n",
    "    # Stor C. NB! Ulik input-variabelen c.\n",
    "    C = ((delta_1+np.sqrt(delta_1**2-\n",
    "        4*delta_0**3))/2)**(1/3)\n",
    "    \n",
    "    # Løysinga\n",
    "    x = -1/(3*a)*(b+u*C+delta_0/(u*C))\n",
    "        \n",
    "    return x\n",
    "\n",
    "print(tredjegrads_funk(10,2,3,1))\n",
    "print(tredjegrads_funk(1, 0, 0, 0))\n",
    "print(tredjegrads_funk(1, np.sqrt(3), 1, -1))"
   ]
  },
  {
   "cell_type": "code",
   "execution_count": 18,
   "id": "5d706782-a677-45aa-b385-b3ce18d9065a",
   "metadata": {},
   "outputs": [
    {
     "name": "stdout",
     "output_type": "stream",
     "text": [
      "[-0.3022+0.0000j  0.0511-0.5730j  0.0511+0.5730j]\n",
      "0.0\n",
      "[ 0.4831-0.0000j -1.1076+0.9184j -1.1076-0.9184j]\n"
     ]
    }
   ],
   "source": [
    "def kubikkrot(x):\n",
    "    \"\"\"Funksjon som gjer at vi kan ta kubikk-rota av \n",
    "    negative tal\n",
    "    \"\"\"\n",
    "    if x>0:\n",
    "        return x**(1/3)\n",
    "    else:\n",
    "        return -abs(x)**(1/3)\n",
    "\n",
    "def tredjegrads_funk(a,b,c,d):\n",
    "    \"\"\"Funksjon som løyser tredjegradslikninga\n",
    "    ax^3+bx^2+cx+d=0.\n",
    "    Input er koeffisientane a, b, c, d.\n",
    "    Funksjonen gir dei tre løysingane x_1, x_2 og x_3\n",
    "    som output.\n",
    "    \"\"\"\n",
    "    \n",
    "    # Kontrollerer at det faktisk er ei tredjegradslikning\n",
    "    if a == 0:\n",
    "        print('Dette er ikkje ei tredjegradslikning')\n",
    "        return None\n",
    "    \n",
    "    # Tilordnar parametrar som inngår i løysingsformelen\n",
    "    # Vektor med u_1, u_2 og u_3:\n",
    "    u = np.array([1, complex(-1, np.sqrt(3))/2, \n",
    "                  complex(-1, -np.sqrt(3))/2])\n",
    "    delta_0 = b**2-3*a*c\n",
    "    delta_1 = 2*b**3-9*a*b*c+27*a**2*d\n",
    "    \n",
    "    # Stor C. NB! Ulik input-variabelen c.\n",
    "    C = kubikkrot((delta_1+np.sqrt(complex(delta_1**2-\n",
    "        4*delta_0**3)))/2)\n",
    "    \n",
    "    # Løysinga\n",
    "    if abs(delta_0) < 1e-14 and abs(delta_1) < 1e-14:\n",
    "        # Spesialtilfelle: 3 like røter\n",
    "        x = -b/(3*a)\n",
    "    elif abs(delta_0) < 1e-14 and delta_1 < 0:\n",
    "        # Endrar C i dette tilfellet\n",
    "        C = kubikkrot(delta_1)\n",
    "        x = -1/(3*a)*(b+u*C+delta_0/(u*C))\n",
    "    else:\n",
    "        x = -1/(3*a)*(b+u*C+delta_0/(u*C))\n",
    "        \n",
    "    return x\n",
    "\n",
    "print(tredjegrads_funk(10,2,3,1))\n",
    "print(tredjegrads_funk(1, 0, 0, 0))\n",
    "print(tredjegrads_funk(1, np.sqrt(3), 1, -1))"
   ]
  },
  {
   "cell_type": "code",
   "execution_count": null,
   "id": "89da0e46-2f15-4585-8ae2-1b4b84462931",
   "metadata": {},
   "outputs": [],
   "source": []
  }
 ],
 "metadata": {
  "kernelspec": {
   "display_name": "Python 3 (ipykernel)",
   "language": "python",
   "name": "python3"
  },
  "language_info": {
   "codemirror_mode": {
    "name": "ipython",
    "version": 3
   },
   "file_extension": ".py",
   "mimetype": "text/x-python",
   "name": "python",
   "nbconvert_exporter": "python",
   "pygments_lexer": "ipython3",
   "version": "3.12.4"
  }
 },
 "nbformat": 4,
 "nbformat_minor": 5
}
