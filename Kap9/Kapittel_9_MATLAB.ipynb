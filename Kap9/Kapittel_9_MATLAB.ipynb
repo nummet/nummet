{
 "cells": [
  {
   "cell_type": "markdown",
   "id": "2a79cd71-4d52-4920-9947-3f3f5ebba34d",
   "metadata": {},
   "source": [
    "# Kapittel 9"
   ]
  },
  {
   "cell_type": "code",
   "execution_count": 11,
   "id": "880292a9-33b6-4db9-b302-e7466b5e1c79",
   "metadata": {},
   "outputs": [
    {
     "data": {
      "image/png": "[encoded data removed]"
     },
     "execution_count": 11,
     "metadata": {},
     "output_type": "execute_result"
    },
    {
     "data": {
      "text/html": [
       "<html><body><pre>Estimat = 0.6927</pre></body></html>"
      ],
      "text/plain": [
       "Estimat = 0.6927"
      ]
     },
     "execution_count": 11,
     "metadata": {},
     "output_type": "execute_result"
    }
   ],
   "source": [
    "% MonteCarloPlott.m\n",
    "\n",
    "% Skript som estimerer eit integral ved Monte Carlo-metoden\n",
    "% Sjølve integralet, og den analytiske løysninga av det, er\n",
    "% spesifisert i starten av skriptet - i tillegg til\n",
    "% det maksimale talet på trekk.\n",
    "\n",
    "% Integrasjonsgrenser\n",
    "a=-1;\n",
    "b=3;\n",
    "\n",
    "% Integrand\n",
    "funk=@(x) x*sin(x^2);\n",
    "\n",
    "% Kjent analytisk svar:\n",
    "Fasit=(cos(1)-cos(9))/2;\n",
    "\n",
    "% Maksimalt tal på trekk:\n",
    "Nmax=1000;\n",
    "\n",
    "% Initierer summen\n",
    "MCsum=0;\n",
    "\n",
    "% Lagar klart plott for estimata - saman med eksakt svar\n",
    "plot([1 Nmax],Fasit*[1 1],'k--')\n",
    "hold on\n",
    "\n",
    "% Vi utfører uttrekka og legg til summen for kvar gong\n",
    "for n=1:Nmax\n",
    "  x=a+(b-a)*rand;\n",
    "  MCsum=MCsum+funk(x);\n",
    "  Estimat=(b-a)*MCsum/n;          % Integral-estimat\n",
    "  plot(n,Estimat,'b.')            % Plottar estimat\n",
    "end\n",
    "hold off\n",
    "axis([0 Nmax -1 2])\n",
    "\n",
    "% Skriv svaret til skjerm\n",
    "Estimat\n"
   ]
  },
  {
   "cell_type": "code",
   "execution_count": 27,
   "id": "c724271e-2717-4226-aeb8-ccef484af34b",
   "metadata": {},
   "outputs": [
    {
     "data": {
      "image/png": "[encoded data removed]"
     },
     "execution_count": 27,
     "metadata": {},
     "output_type": "execute_result"
    }
   ],
   "source": [
    "% PlottFeilenInt.m\n",
    "\n",
    "% Skript som plottar feilen i eit estimat for ein\n",
    "% Riemann-sum, trapesmetoden og Simpsons metode.\n",
    "\n",
    "% Spesifiserer integrand, grenser og eksakt svar\n",
    "funk=@(x) x*sin(x^2);\n",
    "a=-1; b=3;\n",
    "Fasit=(cos(1)-cos(9))/2;\n",
    "\n",
    "% Lagar vektor med n-verdiar\n",
    "nStart=2;\n",
    "nSteg=10;\n",
    "nSlutt=100000;\n",
    "nVektor=nStart:nSteg:nSlutt;\n",
    "hVektor=(b-a)./nVektor;\n",
    "\n",
    "% Lagar vektorar med estimat\n",
    "indeks=1;\n",
    "for n=nVektor\n",
    "  Vvektor(indeks)=RiemannFunkV(funk,a,b,n);\n",
    "  Tvektor(indeks)=TrapesFunk(funk,a,b,n);\n",
    "  Svektor(indeks)=SimpsonsFunk(funk,a,b,n);\n",
    "  indeks=indeks+1;\n",
    "end\n",
    "\n",
    "% Plottar feilen\n",
    "loglog(hVektor,abs(Vvektor-Fasit),'b-','linewidth',2)\n",
    "hold on\n",
    "loglog(hVektor,abs(Tvektor-Fasit),'r--','linewidth',2)\n",
    "loglog(hVektor,abs(Svektor-Fasit),'k-.','linewidth',2)\n",
    "hold off\n",
    "set(gca,'fontsize',15)\n",
    "legend('Venstre Riemann-sum','Trapesmetoden','Simpsons metode')\n",
    "\n",
    "% RiemannFunkV.m (fra Canvas)\n",
    "\n",
    "function R=RiemannFunkV(Funk, a, b, N)\n",
    "\n",
    "% Funksjonsfil som estimerar eit integral som ein \n",
    "% Riemann-sum på ein regulær partisjon med venstre-\n",
    "% seleksjon.\n",
    "% Integranden og grenser er hard-koda, input er\n",
    "% N, talet på del-intervall.\n",
    "\n",
    "% Oppdeling\n",
    "DeltaX=(b-a)/N;\n",
    "\n",
    "% Initerar summen:\n",
    "R=0;\n",
    "\n",
    "% Reknar ut summen\n",
    "for n=1:N\n",
    "  x=a+(n-1)*DeltaX;             % Oppdaterar x\n",
    "  R=R+DeltaX*Funk(x);           % Oppdaterar summen\n",
    "end\n",
    "end\n",
    "\n",
    "% TrapesFunk.m\n",
    "\n",
    "function T=TrapesFunk(funk,a,b,n)\n",
    "\n",
    "% Implementering av trapesmetoden for numerisk integrasjon.\n",
    "% Integranden funk, grensene a og b, og oppdelinga n\n",
    "% blir gitt som input.\n",
    "\n",
    "% Steglengda\n",
    "h=(b-a)/n;\n",
    "\n",
    "% Bidrag frå endane\n",
    "T=h/2*(funk(a)+funk(b));\n",
    "\n",
    "% Resten av bidraga\n",
    "for i=1:(n-1)\n",
    "    xi=a+i*h;\n",
    "    T=T+h*funk(xi);\n",
    "end\n",
    "end\n",
    "\n",
    "% SimpsonsFunk.m (fra Canvas)\n",
    "\n",
    "function S=SimpsonsFunk(Funk, a, b, N)\n",
    "\n",
    "% Funksjonsfil som estimerar eit integral ved\n",
    "% hjelp av Simpsons metode.\n",
    "% Integranden og grenser er hard-koda, input er\n",
    "% N, talet på del-intervall.\n",
    "\n",
    "% Oppdeling\n",
    "DeltaX=(b-a)/N;\n",
    "\n",
    "% Initerar summen og tar med endane:\n",
    "S=(Funk(a)+Funk(b));\n",
    "\n",
    "% Oddetalsbidrag\n",
    "for n=1:2:(N-1)\n",
    "  x=a+n*DeltaX;                 % Oppdaterar x\n",
    "  S=S+4*Funk(x);           % Oppdaterar summen\n",
    "end\n",
    "\n",
    "% Partalssbidrag\n",
    "for n=2:2:(N-2)\n",
    "  x=a+n*DeltaX;                 % Oppdaterar x\n",
    "  S=S+2*Funk(x);           % Oppdaterar summen\n",
    "end\n",
    "\n",
    "% Korrigerar svar med DeltaX/3;\n",
    "S=S*DeltaX/3;\n",
    "end\n"
   ]
  },
  {
   "cell_type": "code",
   "execution_count": 28,
   "id": "11caeca7-8fdc-4108-9e80-4a21eb43a3fa",
   "metadata": {},
   "outputs": [
    {
     "data": {
      "text/html": [
       "<html><body><pre>n = 10</pre></body></html>"
      ],
      "text/plain": [
       "n = 10"
      ]
     },
     "execution_count": 28,
     "metadata": {},
     "output_type": "execute_result"
    },
    {
     "data": {
      "text/html": [
       "<html><body><pre>V = 17.4800</pre></body></html>"
      ],
      "text/plain": [
       "V = 17.4800"
      ]
     },
     "execution_count": 28,
     "metadata": {},
     "output_type": "execute_result"
    }
   ],
   "source": [
    "% RektangelSum.m\n",
    "\n",
    "% Skript som reknar ut ein sum av areal av rektangel\n",
    "\n",
    "% Talet på rektangel\n",
    "%n=input('Kor mange rektangel? ');\n",
    "n=10\n",
    "% Funksjonen\n",
    "funk=@(x) x^3;\n",
    "\n",
    "% Grenser\n",
    "a=1;\n",
    "b=3;\n",
    "\n",
    "% Bestemmer h og initierer summen V\n",
    "h=(b-a)/n;\n",
    "V=0;\n",
    "\n",
    "for i=0:(n-1)\n",
    "    xi=a+i*h;\n",
    "    V=V+h*funk(xi);\n",
    "end\n",
    "\n",
    "% Skriv summen V til skjerm\n",
    "V\n"
   ]
  },
  {
   "cell_type": "code",
   "execution_count": 29,
   "id": "78c28326-c3c9-4dc5-9b7a-39586eb272d7",
   "metadata": {},
   "outputs": [
    {
     "data": {
      "text/html": [
       "<html><body><pre>n = 10</pre></body></html>"
      ],
      "text/plain": [
       "n = 10"
      ]
     },
     "execution_count": 29,
     "metadata": {},
     "output_type": "execute_result"
    },
    {
     "data": {
      "text/html": [
       "<html><body><pre>V = 17.4800</pre></body></html>"
      ],
      "text/plain": [
       "V = 17.4800"
      ]
     },
     "execution_count": 29,
     "metadata": {},
     "output_type": "execute_result"
    },
    {
     "data": {
      "text/html": [
       "<html><body><pre>H = 22.6800</pre></body></html>"
      ],
      "text/plain": [
       "H = 22.6800"
      ]
     },
     "execution_count": 29,
     "metadata": {},
     "output_type": "execute_result"
    },
    {
     "data": {
      "text/html": [
       "<html><body><pre>T = 20.0800</pre></body></html>"
      ],
      "text/plain": [
       "T = 20.0800"
      ]
     },
     "execution_count": 29,
     "metadata": {},
     "output_type": "execute_result"
    }
   ],
   "source": [
    "% RektangelSumV2.m\n",
    "\n",
    "% Skript som estimerer eit integral på tre måtar:\n",
    "% Venstre og høgre Riemann-sum og trapesmetoden\n",
    "\n",
    "% Talet på rektangel\n",
    "%n=input('Kor mange rektangel? ');\n",
    "n=10\n",
    "% Funksjonen\n",
    "funk=@(x) x^3;\n",
    "\n",
    "% Grenser\n",
    "a=1;\n",
    "b=3;\n",
    "\n",
    "% Bestemmer h og initierer summane V og H\n",
    "h=(b-a)/n;\n",
    "V=0;\n",
    "H=0;\n",
    "\n",
    "% Reknar ut venstresummen\n",
    "for i=0:(n-1)\n",
    "    xi=a+i*h;\n",
    "    V=V+h*funk(xi);\n",
    "end\n",
    "\n",
    "% Reknar ut høgresummen\n",
    "for i=1:n\n",
    "    xi=a+i*h;\n",
    "    H=H+h*funk(xi);\n",
    "end\n",
    "\n",
    "\n",
    "% Skriv summane V, H og T til skjerm\n",
    "V\n",
    "H\n",
    "T=(V+H)/2                   % Trapessummen\n"
   ]
  },
  {
   "cell_type": "code",
   "execution_count": 30,
   "id": "fcdb45d6-2f32-47f7-91a0-3b030b76463c",
   "metadata": {},
   "outputs": [],
   "source": [
    "% RiemannFunk.m\n",
    "\n",
    "function V=RiemannFunk(x,y)\n",
    "\n",
    "% Funksjon som beregner venstre Rimann sum for gitte x- og y-vektorer\n",
    "% Partisjonen, gitt ved x-vektoren, må være regulær.\n",
    "\n",
    "% Bestemmer steglengda og antall steg\n",
    "h=x(2)-x(1);\n",
    "n=length(x);\n",
    "\n",
    "% Initierer summen\n",
    "V=0;\n",
    "\n",
    "for i=1:(n-1)\n",
    "    V=V+h*y(i);\n",
    "end\n"
   ]
  },
  {
   "cell_type": "code",
   "execution_count": 31,
   "id": "a1e8408e-9d5f-4325-81c3-3123b3524b50",
   "metadata": {},
   "outputs": [],
   "source": [
    "% RiemannFunkMidt.m\n",
    "\n",
    "function V=RiemannFunk(x,y)\n",
    "\n",
    "% Funksjon som beregner venstre Rimann sum for gitte x- og y-vektorer\n",
    "% Partisjonen, gitt ved x-vektoren, må være regulær.\n",
    "\n",
    "% Bestemmer steglengda og antall steg\n",
    "h=x(2)-x(1);\n",
    "n=length(x);\n",
    "\n",
    "% Initierer summen\n",
    "V=0;\n",
    "\n",
    "for i=1:n\n",
    "    V=V+h*y(i);\n",
    "end\n"
   ]
  },
  {
   "cell_type": "code",
   "execution_count": 38,
   "id": "3d7e95ce-f880-48ee-af26-3a38d57f7728",
   "metadata": {},
   "outputs": [
    {
     "data": {
      "text/html": [
       "<html><body><pre>n = 10</pre></body></html>"
      ],
      "text/plain": [
       "n = 10"
      ]
     },
     "execution_count": 38,
     "metadata": {},
     "output_type": "execute_result"
    },
    {
     "data": {
      "text/html": [
       "<html><body><pre>S = 0</pre></body></html>"
      ],
      "text/plain": [
       "S = 0"
      ]
     },
     "execution_count": 38,
     "metadata": {},
     "output_type": "execute_result"
    }
   ],
   "source": [
    "% Simpson.m\n",
    "\n",
    "% Implementering av Simpsons metode.\n",
    "% Integrasjonsgrensene a og b, oppdelinga n og integranden\n",
    "% funk blir gitt heilt i toppen av skriptet.\n",
    "% For å gi oppdelinga n brukar vi input-funksjonen\n",
    "\n",
    "% Integrasjonsgrensene\n",
    "a=0;\n",
    "b=1;\n",
    "\n",
    "% Integranden\n",
    "funk=@(x) cos(pi*x);\n",
    "\n",
    "% Oppdeling (kontrollerer at n er eit partal)\n",
    "%n=input('Gi oppdelinga n: ');\n",
    "n=10\n",
    "if round(n/2) ~= n/2\n",
    "    disp('n må vere eit partal')\n",
    "    return\n",
    "end\n",
    "h=(b-a)/n;                  % Steglengda\n",
    "\n",
    "% Bidrag frå endane\n",
    "S=h/3*(funk(a)+funk(b));\n",
    "\n",
    "% Oddetalsbidrag:\n",
    "for i=1:2:(n-1);\n",
    "    xi=a+i*h;\n",
    "    S=S+h/3*4*funk(xi);\n",
    "end\n",
    "\n",
    "% Partalsbidrag\n",
    "for i=2:2:(n-2)\n",
    "    xi=a+i*h;\n",
    "    S=S+h/3*2*funk(xi);\n",
    "end\n",
    "\n",
    "% Skriv svaret til skjerm\n",
    "S\n"
   ]
  },
  {
   "cell_type": "code",
   "execution_count": 39,
   "id": "c9e90a25-8fc5-4bcf-80df-467c5647db7e",
   "metadata": {},
   "outputs": [],
   "source": [
    "% SimpsonFunk.m\n",
    "\n",
    "function S=SimpsonFunk(x,y)\n",
    "\n",
    "% Funksjon som beregner integral ved Simpsons metode \n",
    "% for gitte x- og y-vektorer\n",
    "% Partisjonen, gitt ved x-vektoren, må være regulær.\n",
    "\n",
    "% Bestemmer steglengda og antall steg\n",
    "h=x(2)-x(1);\n",
    "n=length(x);\n",
    "\n",
    "% Ende-bidrag:\n",
    "S=h/3*(y(1)+y(n));\n",
    "\n",
    "% Partalls-bidrag\n",
    "for i=2:2:(n-1)\n",
    "    S=S+h/3*4*y(i);\n",
    "end\n",
    "\n",
    "% Oddetalls-bidrag\n",
    "for i=3:2:(n-2)\n",
    "    S=S+h/3*2*y(i);\n",
    "end\n"
   ]
  },
  {
   "cell_type": "code",
   "execution_count": 40,
   "id": "c9ea4a8e-9b84-4148-bf89-7cfe9a49c5bd",
   "metadata": {},
   "outputs": [
    {
     "data": {
      "text/html": [
       "<html><body><pre>n = 10</pre></body></html>"
      ],
      "text/plain": [
       "n = 10"
      ]
     },
     "execution_count": 40,
     "metadata": {},
     "output_type": "execute_result"
    },
    {
     "data": {
      "text/html": [
       "<html><body><pre>T = 0.3252</pre></body></html>"
      ],
      "text/plain": [
       "T = 0.3252"
      ]
     },
     "execution_count": 40,
     "metadata": {},
     "output_type": "execute_result"
    }
   ],
   "source": [
    "% Trapes.m\n",
    "\n",
    "% Implementering av trapesmetoden for numerisk integrasjon.\n",
    "% Integrasjonsgrensene a og b, oppdelinga n og integranden\n",
    "% funk blir gitt heilt i toppen av skriptet.\n",
    "% For å gi n brukar vi input-funksjonen.\n",
    "\n",
    "% Integrasjonsgrenser\n",
    "a=-1;\n",
    "b=1;\n",
    "\n",
    "% Integranden\n",
    "funk=@(x) x^6;\n",
    "\n",
    "% Oppdeling\n",
    "%n=input('Gi oppdelinga n: ');\n",
    "n=10\n",
    "h=(b-a)/n;                  % Steglengda\n",
    "\n",
    "% Bidrag frå endane\n",
    "T=h/2*(funk(a)+funk(b));\n",
    "\n",
    "% Resten av bidraga\n",
    "for i=1:(n-1)\n",
    "    xi=a+i*h;\n",
    "    T=T+h*funk(xi);\n",
    "end\n",
    "\n",
    "% Skriv svaret til skjerm\n",
    "T\n"
   ]
  },
  {
   "cell_type": "code",
   "execution_count": null,
   "id": "d00ab26f-2dd9-4938-a275-755f0bab542c",
   "metadata": {},
   "outputs": [],
   "source": []
  }
 ],
 "metadata": {
  "kernelspec": {
   "display_name": "MATLAB Kernel",
   "language": "matlab",
   "name": "jupyter_matlab_kernel"
  },
  "language_info": {
   "file_extension": ".m",
   "mimetype": "text/x-matlab",
   "name": "matlab"
  }
 },
 "nbformat": 4,
 "nbformat_minor": 5
}
