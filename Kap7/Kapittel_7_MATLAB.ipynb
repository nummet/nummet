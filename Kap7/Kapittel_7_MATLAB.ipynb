{
 "cells": [
  {
   "cell_type": "markdown",
   "id": "46204c84-4048-4fb5-a35a-8b1855b114ab",
   "metadata": {},
   "source": [
    "# Kapittel 7"
   ]
  },
  {
   "cell_type": "code",
   "execution_count": 1,
   "id": "163ac84b-98a5-4ad1-af21-9550b49a1658",
   "metadata": {},
   "outputs": [
    {
     "data": {
      "text/html": [
       "<html><body><pre>elevar = 23</pre></body></html>"
      ],
      "text/plain": [
       "elevar = 23"
      ]
     },
     "execution_count": 1,
     "metadata": {},
     "output_type": "execute_result"
    }
   ],
   "source": [
    "% Skript som reknar ut kor mange elevar det må vere i ein\n",
    "% skuleklasse for at der mest sannsynleg vil vere minst to\n",
    "% elevar med bursdag på same dag.\n",
    "%\n",
    "% P er sannsynet for at alle elevane har bursdagar\n",
    "% på ulike datoar\n",
    "% n er talet på elevar\n",
    "\n",
    "% Initierer P og n\n",
    "P=1;\n",
    "n=0;\n",
    "\n",
    "while P>1/2\n",
    "  n=n+1;                   % Aukar elevtalet\n",
    "  P=P*(365-n+1)/365;       % Oppdaterer sannsyn\n",
    "end\n",
    "\n",
    "% Skriv resultatet til skjerm\n",
    "elevar=n\n"
   ]
  },
  {
   "cell_type": "code",
   "execution_count": 2,
   "id": "577fbada-bb6e-4cf2-bd1f-fab00065b976",
   "metadata": {},
   "outputs": [
    {
     "data": {
      "text/html": [
       "<html><body><pre>x = 0.2919</pre></body></html>"
      ],
      "text/plain": [
       "x = 0.2919"
      ]
     },
     "execution_count": 2,
     "metadata": {},
     "output_type": "execute_result"
    },
    {
     "data": {
      "text/html": [
       "<html><body><pre>x = 0.9172</pre></body></html>"
      ],
      "text/plain": [
       "x = 0.9172"
      ]
     },
     "execution_count": 2,
     "metadata": {},
     "output_type": "execute_result"
    },
    {
     "data": {
      "text/html": [
       "<html><body><pre>x = 0.3697</pre></body></html>"
      ],
      "text/plain": [
       "x = 0.3697"
      ]
     },
     "execution_count": 2,
     "metadata": {},
     "output_type": "execute_result"
    },
    {
     "data": {
      "text/html": [
       "<html><body><pre>x = 0.8694</pre></body></html>"
      ],
      "text/plain": [
       "x = 0.8694"
      ]
     },
     "execution_count": 2,
     "metadata": {},
     "output_type": "execute_result"
    },
    {
     "data": {
      "text/html": [
       "<html><body><pre>x = 0.4164</pre></body></html>"
      ],
      "text/plain": [
       "x = 0.4164"
      ]
     },
     "execution_count": 2,
     "metadata": {},
     "output_type": "execute_result"
    },
    {
     "data": {
      "text/html": [
       "<html><body><pre>x = 0.8364</pre></body></html>"
      ],
      "text/plain": [
       "x = 0.8364"
      ]
     },
     "execution_count": 2,
     "metadata": {},
     "output_type": "execute_result"
    },
    {
     "data": {
      "text/html": [
       "<html><body><pre>x = 0.4491</pre></body></html>"
      ],
      "text/plain": [
       "x = 0.4491"
      ]
     },
     "execution_count": 2,
     "metadata": {},
     "output_type": "execute_result"
    }
   ],
   "source": [
    "% Skript som forsøker å løsye ei likning ved \n",
    "% fikspunktiterasjon, x_{n+1}=f(x_n)\n",
    "\n",
    "% Start-verdi\n",
    "x=1;\n",
    "\n",
    "for i=1:7\n",
    "  x=(cos(x))^2     % Iterasjonsformel\n",
    "end\n"
   ]
  },
  {
   "cell_type": "code",
   "execution_count": 3,
   "id": "46f7efdd-c678-48f5-988b-2eab22cc08bf",
   "metadata": {},
   "outputs": [
    {
     "data": {
      "text/html": [
       "<html><body><pre>x = 0.6416</pre></body></html>"
      ],
      "text/plain": [
       "x = 0.6416"
      ]
     },
     "execution_count": 3,
     "metadata": {},
     "output_type": "execute_result"
    }
   ],
   "source": [
    "% Implementering av halveringsmetoden for likninga f(x)=0 der \n",
    "% f er kontinuerleg på [a,b] og f(a) og f(b) har ulike forteikn.\n",
    "\n",
    "% Grenser\n",
    "a=0;\n",
    "b=pi/2;\n",
    "\n",
    "% Gir funksjonen som skal vere null\n",
    "NullFunk=@(x) sqrt(x)-cos(x);\n",
    "\n",
    "% Funksjonsverdiar\n",
    "Fa=NullFunk(a);\n",
    "Fb=NullFunk(b);\n",
    "\n",
    "% Startar for-løkke som blir køyrd 10 gonger\n",
    "while b-a>1e-3\n",
    "  c=(a+b)/2;          % Midtpunktet\n",
    "  Fc=NullFunk(c);     % Funksjonsverdi i midtpunktet\n",
    "  if Fa*Fc<0\n",
    "    b=c;              % Set ny b til c\n",
    "  else\n",
    "    a=c;              % Set ny a til c\n",
    "  end\n",
    "end\n",
    "\n",
    "% Reknar ut nytt midtpunkt og skriv svaret til skjerm\n",
    "x=(a+b)/2"
   ]
  },
  {
   "cell_type": "code",
   "execution_count": 4,
   "id": "2b039226-4828-457b-9736-b1bed0f574d5",
   "metadata": {},
   "outputs": [
    {
     "data": {
      "text/html": [
       "<html><body><pre>x = 0.6416</pre></body></html>"
      ],
      "text/plain": [
       "x = 0.6416"
      ]
     },
     "execution_count": 4,
     "metadata": {},
     "output_type": "execute_result"
    },
    {
     "data": {
      "text/html": [
       "<html><body><pre>Iterasjonar = 11</pre></body></html>"
      ],
      "text/plain": [
       "Iterasjonar = 11"
      ]
     },
     "execution_count": 4,
     "metadata": {},
     "output_type": "execute_result"
    }
   ],
   "source": [
    "% Implementering av halveringsmetoden for likninga f(x)=0 der \n",
    "% f er kontinuerleg på [a,b] og f(a) og f(b) har ulike forteikn.\n",
    "\n",
    "% Grenser\n",
    "a=0;\n",
    "b=pi/2;\n",
    "\n",
    "% Gir funksjonen som skal vere null\n",
    "NullFunk=@(x) sqrt(x)-cos(x);\n",
    "\n",
    "% Funksjonsverdiar\n",
    "Fa=NullFunk(a);\n",
    "Fb=NullFunk(b);\n",
    "\n",
    "% Initierer variabel som tel iterasjonane\n",
    "Iterasjonar=0;\n",
    "\n",
    "% Startar for-løkke som blir køyrd 10 gonger\n",
    "while b-a>1e-3\n",
    "  c=(a+b)/2;          % Midtpunktet\n",
    "  Fc=NullFunk(c);     % Funksjonsverdi i midtpunktet\n",
    "  if Fa*Fc<0\n",
    "    b=c;              % Set ny b til c\n",
    "  else\n",
    "    a=c;              % Set ny a til c\n",
    "  end\n",
    "  Iterasjonar=Iterasjonar+1;  % Tel iterasjonane\n",
    "end\n",
    "\n",
    "% Reknar ut nytt midtpunkt og skriv svaret til skjerm\n",
    "x=(a+b)/2\n",
    "% Skriv talet på iterasjonar til skjerm\n",
    "Iterasjonar"
   ]
  },
  {
   "cell_type": "code",
   "execution_count": 5,
   "id": "d7d91fc7-0abb-496d-a38b-f5a2abd11f8b",
   "metadata": {},
   "outputs": [
    {
     "data": {
      "text/html": [
       "<html><body><pre>x = 0.6573</pre></body></html>"
      ],
      "text/plain": [
       "x = 0.6573"
      ]
     },
     "execution_count": 5,
     "metadata": {},
     "output_type": "execute_result"
    },
    {
     "data": {
      "text/html": [
       "<html><body><pre>x = 0.6417</pre></body></html>"
      ],
      "text/plain": [
       "x = 0.6417"
      ]
     },
     "execution_count": 5,
     "metadata": {},
     "output_type": "execute_result"
    },
    {
     "data": {
      "text/html": [
       "<html><body><pre>x = 0.6417</pre></body></html>"
      ],
      "text/plain": [
       "x = 0.6417"
      ]
     },
     "execution_count": 5,
     "metadata": {},
     "output_type": "execute_result"
    },
    {
     "data": {
      "text/html": [
       "<html><body><pre>x = 0.6417</pre></body></html>"
      ],
      "text/plain": [
       "x = 0.6417"
      ]
     },
     "execution_count": 5,
     "metadata": {},
     "output_type": "execute_result"
    },
    {
     "data": {
      "text/html": [
       "<html><body><pre>x = 0.6417</pre></body></html>"
      ],
      "text/plain": [
       "x = 0.6417"
      ]
     },
     "execution_count": 5,
     "metadata": {},
     "output_type": "execute_result"
    }
   ],
   "source": [
    "% Skript som implementerer Newtons metode\n",
    "\n",
    "% Bestemmer x_0\n",
    "x=1;\n",
    "\n",
    "for i=1:5\n",
    "  % Iterasjonsformel\n",
    "  x=x-(sqrt(x)-cos(x))/(1/(2*sqrt(x))+sin(x))\n",
    "end\n"
   ]
  },
  {
   "cell_type": "code",
   "execution_count": 5,
   "id": "5f4f428b-1966-4fea-8c9a-9020c130c5d3",
   "metadata": {},
   "outputs": [
    {
     "data": {
      "text/html": [
       "<html><body><pre>x = 0.6417</pre></body></html>"
      ],
      "text/plain": [
       "x = 0.6417"
      ]
     },
     "execution_count": 5,
     "metadata": {},
     "output_type": "execute_result"
    },
    {
     "data": {
      "text/html": [
       "<html><body><pre>Iterasjonar = 4</pre></body></html>"
      ],
      "text/plain": [
       "Iterasjonar = 4"
      ]
     },
     "execution_count": 5,
     "metadata": {},
     "output_type": "execute_result"
    }
   ],
   "source": [
    "% Skript som implementerer Newtons metode\n",
    "\n",
    "% Bestemmer x_0\n",
    "x=1;\n",
    "\n",
    "% Presisjon\n",
    "Pres=1e-5;\n",
    "\n",
    "% Talet på iterasjonar\n",
    "Iterasjonar=0;\n",
    "\n",
    "% Lagar ein variabel for \"gamal\" x-verdi (tilfeldig tal)\n",
    "xGml=100;\n",
    "\n",
    "while abs(x-xGml)>Pres\n",
    "  % Kopierer den gamle x\n",
    "  xGml=x;\n",
    "  % Iterasjonsskjema\n",
    "  x=x-(sqrt(x)-cos(x))/(1/(2*sqrt(x))+sin(x));\n",
    "  % Tel iterasjonar\n",
    "  Iterasjonar=Iterasjonar+1;\n",
    "end\n",
    "\n",
    "% Skriv svaret til skjerm\n",
    "x\n",
    "% Skriv talet på iterasjonar til skjerm\n",
    "Iterasjonar\n"
   ]
  },
  {
   "cell_type": "code",
   "execution_count": 3,
   "id": "8cf145ea-c609-473d-9fc6-e2101d997025",
   "metadata": {},
   "outputs": [
    {
     "data": {
      "text/html": [
       "<html><body><pre>u = \n",
       "   1.0000 + 0.0000i  -0.5000 + 0.8660i  -0.5000 - 0.8660i\n",
       "</pre></body></html>"
      ],
      "text/plain": [
       "u = \n",
       "   1.0000 + 0.0000i  -0.5000 + 0.8660i  -0.5000 - 0.8660i\n"
      ]
     },
     "execution_count": 3,
     "metadata": {},
     "output_type": "execute_result"
    },
    {
     "data": {
      "text/html": [
       "<html><body><pre>ans = \n",
       "  -0.3022 + 0.0000i   0.0511 - 0.5730i   0.0511 + 0.5730i\n",
       "</pre></body></html>"
      ],
      "text/plain": [
       "ans = \n",
       "  -0.3022 + 0.0000i   0.0511 - 0.5730i   0.0511 + 0.5730i\n"
      ]
     },
     "execution_count": 3,
     "metadata": {},
     "output_type": "execute_result"
    }
   ],
   "source": [
    "TredjeGradFunk(10,2,3,1)\n",
    "\n",
    "function X=TredjeGradFunk(a,b,c,d)\n",
    "\n",
    "% Funksjon som løyser tredjegradslikninga\n",
    "% ax^3+bx^2+cx+d=0.\n",
    "% Input er koeffisientane a, b, c, d.\n",
    "% Funksjonen gir dei tre løysingane x_1, x_2 og x_3\n",
    "% som output.\n",
    "\n",
    "% Kontrollerer at det faktisk er ei tredjegradslikning\n",
    "if a==0\n",
    "   disp('Dette er ikkje ei tredjegradslikning')\n",
    "   return\n",
    "end\n",
    "\n",
    "% Tilordnar parametrar som inngår i løysingsformelen\n",
    "% Vektor med u_1, u_2 og u_3:\n",
    "u=[1 (-1+sqrt(3)*i)/2 (-1-sqrt(3)*i)/2]\n",
    "Delta0=b^2-3*a*c;\n",
    "Delta1=2*b^3-9*a*b*c+27*a^2*d;\n",
    "% Stor C. NB! Ulik input-variabelen c.\n",
    "C=((Delta1+sqrt(Delta1^2-4*Delta0^3))/2)^(1/3);\n",
    "\n",
    "% Løysinga\n",
    "if abs(Delta0)<1e-14 & abs(Delta1)<1e-14\n",
    "% Spesialtilfelle: 3 like røter\n",
    "  X=-b/(3*a);\n",
    "elseif abs(Delta0)<1e-14 & Delta1<0\n",
    "% Endrar C i dette tilfellet\n",
    "  C=Delta1^(1/3);\n",
    "  X=-1/(3*a)*(b+u*C+Delta0./(u*C));\n",
    "else\n",
    "  X=-1/(3*a)*(b+u*C+Delta0./(u*C));\n",
    "end\n",
    "end\n"
   ]
  },
  {
   "cell_type": "code",
   "execution_count": null,
   "id": "e0e46827-b155-4749-b9b2-d7028f6b13bb",
   "metadata": {},
   "outputs": [],
   "source": []
  }
 ],
 "metadata": {
  "kernelspec": {
   "display_name": "MATLAB Kernel",
   "language": "matlab",
   "name": "jupyter_matlab_kernel"
  },
  "language_info": {
   "file_extension": ".m",
   "mimetype": "text/x-matlab",
   "name": "matlab"
  }
 },
 "nbformat": 4,
 "nbformat_minor": 5
}
