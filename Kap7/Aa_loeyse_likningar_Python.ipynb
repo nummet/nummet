{
 "cells": [
  {
   "cell_type": "markdown",
   "id": "7cf4fd27-5413-42dc-ac44-7da633131098",
   "metadata": {},
   "source": [
    "# Kapittel 7"
   ]
  },
  {
   "cell_type": "code",
   "execution_count": 3,
   "id": "4c30ece1-0046-4908-9646-287284ef5cbc",
   "metadata": {},
   "outputs": [
    {
     "data": {
      "text/plain": [
       "23"
      ]
     },
     "execution_count": 3,
     "metadata": {},
     "output_type": "execute_result"
    }
   ],
   "source": [
    "# BursdagSameDag.m\n",
    "\n",
    "import numpy as np\n",
    "\n",
    "# Skript som reknar ut kor mange elevar det må vere i ein\n",
    "# skuleklasse for at der mest sannsynleg vil vere minst to\n",
    "# elevar med bursdag på same dag.\n",
    "#\n",
    "# P er sannsynet for at alle elevane har bursdagar\n",
    "# på ulike datoar\n",
    "# n er talet på elevar\n",
    "\n",
    "# Initierer P og n\n",
    "P = 1\n",
    "n = 0\n",
    "\n",
    "while P > 1/2:\n",
    "  n = n+1                   # Aukar elevtalet\n",
    "  P = P*(365-n+1)/365       # Oppdaterer sannsyn\n",
    "\n",
    "# Skriv resultatet til skjerm\n",
    "n"
   ]
  },
  {
   "cell_type": "code",
   "execution_count": 7,
   "id": "86cd9e65-0ce8-4b09-86d7-a66a071d6736",
   "metadata": {},
   "outputs": [
    {
     "name": "stdout",
     "output_type": "stream",
     "text": [
      "0.2919265817264289\n",
      "0.917172409958988\n",
      "0.3697459228325515\n",
      "0.8694055528480625\n",
      "0.4163872933520556\n",
      "0.8364128552102407\n",
      "0.4490737725777865\n"
     ]
    }
   ],
   "source": [
    "# FiksePunktFor.m\n",
    "\n",
    "# Skript som forsøker å løsye ei likning ved \n",
    "# fikspunktiterasjon, x_{n+1}=f(x_n)\n",
    "\n",
    "# Start-verdi\n",
    "x = 1\n",
    "\n",
    "for i in range(1, 8):\n",
    "  x = (np.cos(x))**2     # Iterasjonsformel\n",
    "  print(x)\n"
   ]
  },
  {
   "cell_type": "code",
   "execution_count": 9,
   "id": "474b70fb-4362-40d9-86c1-5099b98b5063",
   "metadata": {},
   "outputs": [
    {
     "name": "stdout",
     "output_type": "stream",
     "text": [
      "0.6415874645331694\n"
     ]
    }
   ],
   "source": [
    "# Halvering.m\n",
    "\n",
    "# Implementering av halveringsmetoden for likninga f(x)=0 der \n",
    "# f er kontinuerleg på [a,b] og f(a) og f(b) har ulike forteikn.\n",
    "\n",
    "# Grenser\n",
    "a = 0\n",
    "b = np.pi/2\n",
    "\n",
    "# Gir funksjonen som skal vere null\n",
    "def NullFunk(x):\n",
    "    return np.sqrt(x)-np.cos(x)\n",
    "\n",
    "# Funksjonsverdiar\n",
    "Fa = NullFunk(a)\n",
    "Fb = NullFunk(b)\n",
    "\n",
    "# Startar for-løkke som blir køyrd 10 gonger\n",
    "while b-a > 1e-3:\n",
    "  c = (a+b)/2          # Midtpunktet\n",
    "  Fc = NullFunk(c)     # Funksjonsverdi i midtpunktet\n",
    "  if Fa*Fc < 0:\n",
    "    b = c              # Set ny b til c\n",
    "  else:\n",
    "    a = c              # Set ny a til c\n",
    "\n",
    "# Reknar ut nytt midtpunkt og skriv svaret til skjerm\n",
    "x = (a+b)/2\n",
    "print(x)"
   ]
  },
  {
   "cell_type": "code",
   "execution_count": 11,
   "id": "e3b6abb2-ac14-4271-83b4-8a962d30c137",
   "metadata": {},
   "outputs": [
    {
     "name": "stdout",
     "output_type": "stream",
     "text": [
      "0.6415874645331694\n",
      "11\n"
     ]
    }
   ],
   "source": [
    "# HalveringV2.m\n",
    "\n",
    "# Implementering av halveringsmetoden for likninga f(x)=0 der \n",
    "# f er kontinuerleg på [a,b] og f(a) og f(b) har ulike forteikn.\n",
    "\n",
    "# Grenser\n",
    "a = 0\n",
    "b = np.pi/2\n",
    "\n",
    "# Gir funksjonen som skal vere null\n",
    "def NullFunk(x):\n",
    "    return np.sqrt(x)-np.cos(x)\n",
    "\n",
    "# Funksjonsverdiar\n",
    "Fa = NullFunk(a)\n",
    "Fb = NullFunk(b)\n",
    "\n",
    "# Initierer variabel som tel iterasjonane\n",
    "Iterasjonar = 0\n",
    "\n",
    "# Startar for-løkke som blir køyrd 10 gonger\n",
    "while b-a > 1e-3:\n",
    "  c = (a+b)/2          # Midtpunktet\n",
    "  Fc = NullFunk(c)     # Funksjonsverdi i midtpunktet\n",
    "  if Fa*Fc < 0:\n",
    "    b = c              # Set ny b til c\n",
    "  else:\n",
    "    a = c              # Set ny a til c\n",
    "  Iterasjonar = Iterasjonar + 1  # Tel iterasjonane\n",
    "\n",
    "# Reknar ut nytt midtpunkt og skriv svaret til skjerm\n",
    "x=(a+b)/2\n",
    "print(x)\n",
    "# Skriv talet på iterasjonar til skjerm\n",
    "print(Iterasjonar)"
   ]
  },
  {
   "cell_type": "code",
   "execution_count": 12,
   "id": "47e5987f-6cb9-4530-a629-94cc46cb804c",
   "metadata": {},
   "outputs": [
    {
     "name": "stdout",
     "output_type": "stream",
     "text": [
      "0.657318198203377\n",
      "0.6417461052504967\n",
      "0.6417143710025017\n",
      "0.6417143708728826\n",
      "0.6417143708728826\n"
     ]
    }
   ],
   "source": [
    "# NewtonMetFor.m\n",
    "\n",
    "# Skript som implementerer Newtons metode\n",
    "\n",
    "# Bestemmer x_0\n",
    "x = 1\n",
    "\n",
    "for i in range(1, 6):\n",
    "  # Iterasjonsformel\n",
    "  x = x-(np.sqrt(x)-np.cos(x))/(1/(2*np.sqrt(x))+np.sin(x))\n",
    "  print(x)\n"
   ]
  },
  {
   "cell_type": "code",
   "execution_count": 13,
   "id": "89d83467-48e2-43ea-9762-cd299d0dbc41",
   "metadata": {},
   "outputs": [
    {
     "name": "stdout",
     "output_type": "stream",
     "text": [
      "0.6417143708728826\n",
      "4\n"
     ]
    }
   ],
   "source": [
    "# NewtonMetWhile.m\n",
    "\n",
    "# Skript som implementerer Newtons metode\n",
    "\n",
    "# Bestemmer x_0\n",
    "x = 1\n",
    "\n",
    "# Presisjon\n",
    "Pres = 1e-5\n",
    "\n",
    "# Talet på iterasjonar\n",
    "Iterasjonar = 0\n",
    "\n",
    "# Lagar ein variabel for \"gamal\" x-verdi (tilfeldig tal)\n",
    "xGml = 100\n",
    "\n",
    "while abs(x-xGml) > Pres:\n",
    "  # Kopierer den gamle x\n",
    "  xGml = x\n",
    "  # Iterasjonsskjema\n",
    "  x = x-(np.sqrt(x)-np.cos(x))/(1/(2*np.sqrt(x))+np.sin(x))\n",
    "  # Tel iterasjonar\n",
    "  Iterasjonar = Iterasjonar+1\n",
    "\n",
    "# Skriv svaret til skjerm\n",
    "print(x)\n",
    "# Skriv talet på iterasjonar til skjerm\n",
    "print(Iterasjonar)\n"
   ]
  },
  {
   "cell_type": "code",
   "execution_count": 8,
   "id": "a3e44b21-f58c-4d41-9abe-b2d3f305a82b",
   "metadata": {},
   "outputs": [
    {
     "data": {
      "text/plain": [
       "array([-0.30221457+0.j        ,  0.05110728-0.57295617j,\n",
       "        0.05110728+0.57295617j])"
      ]
     },
     "execution_count": 8,
     "metadata": {},
     "output_type": "execute_result"
    }
   ],
   "source": [
    "# TredjeGradFunk.m\n",
    "\n",
    "import cmath as cm\n",
    "\n",
    "def TredjeGradFunk(a,b,c,d):\n",
    "    # Funksjon som løyser tredjegradslikninga\n",
    "    # ax^3+bx^2+cx+d=0.\n",
    "    # Input er koeffisientane a, b, c, d.\n",
    "    # Funksjonen gir dei tre løysingane x_1, x_2 og x_3\n",
    "    # som output.\n",
    "    \n",
    "    # Kontrollerer at det faktisk er ei tredjegradslikning\n",
    "    if a == 0:\n",
    "       print('Dette er ikkje ei tredjegradslikning')\n",
    "       return\n",
    "    \n",
    "    # Tilordnar parametrar som inngår i løysingsformelen\n",
    "    # Vektor med u_1, u_2 og u_3:\n",
    "    u = np.array([1, complex(-1, cm.sqrt(3))/2, complex(-1, -cm.sqrt(3))/2], dtype=complex)\n",
    "    Delta0 = b**2-3*a*c\n",
    "    Delta1 = 2*b**3-9*a*b*c+27*a**2*d\n",
    "    # Stor C. NB! Ulik input-variabelen c.\n",
    "    C = ((Delta1+cm.sqrt(Delta1**2-4*Delta0**3))/2)**(1/3)\n",
    "    \n",
    "    # Løysinga\n",
    "    if abs(Delta0) < 1e-14 and abs(Delta1) < 1e-14:\n",
    "    # Spesialtilfelle: 3 like røter\n",
    "      X = -b/(3*a)\n",
    "    elif abs(Delta0) < 1e-14 and Delta1 < 0:\n",
    "    # Endrar C i dette tilfellet\n",
    "      C = Delta1**(1/3)\n",
    "      X = -1/(3*a)*(b+u*C+Delta0/(u*C))\n",
    "    else:\n",
    "      X = -1/(3*a)*(b+u*C+Delta0/(u*C))\n",
    "    return X\n",
    "\n",
    "TredjeGradFunk(10,2,3,1)"
   ]
  },
  {
   "cell_type": "code",
   "execution_count": null,
   "id": "ad71617c-501f-41fb-83b0-ae282ffcb0f8",
   "metadata": {},
   "outputs": [],
   "source": []
  }
 ],
 "metadata": {
  "kernelspec": {
   "display_name": "Python 3 (ipykernel)",
   "language": "python",
   "name": "python3"
  },
  "language_info": {
   "codemirror_mode": {
    "name": "ipython",
    "version": 3
   },
   "file_extension": ".py",
   "mimetype": "text/x-python",
   "name": "python",
   "nbconvert_exporter": "python",
   "pygments_lexer": "ipython3",
   "version": "3.11.5"
  }
 },
 "nbformat": 4,
 "nbformat_minor": 5
}
