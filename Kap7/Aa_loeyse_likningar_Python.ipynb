{
 "cells": [
  {
   "cell_type": "markdown",
   "id": "7cf4fd27-5413-42dc-ac44-7da633131098",
   "metadata": {},
   "source": [
    "# Kapittel 7"
   ]
  },
  {
   "cell_type": "code",
   "execution_count": 39,
   "id": "ed3f53c8-37d6-4397-a4d5-0a46f333fe1d",
   "metadata": {},
   "outputs": [],
   "source": [
    "# Import\n",
    "import cmath as cm\n",
    "import numpy as np\n",
    "np.set_printoptions(linewidth=400)\n",
    "np.set_printoptions(formatter={'all': lambda x: f\"{x:.2f}\"})"
   ]
  },
  {
   "cell_type": "code",
   "execution_count": 40,
   "id": "4c30ece1-0046-4908-9646-287284ef5cbc",
   "metadata": {},
   "outputs": [
    {
     "name": "stdout",
     "output_type": "stream",
     "text": [
      "n = 23.00\n"
     ]
    }
   ],
   "source": [
    "# BursdagSameDag.m\n",
    "\n",
    "# Skript som reknar ut kor mange elevar det må vere i ein\n",
    "# skuleklasse for at der mest sannsynleg vil vere minst to\n",
    "# elevar med bursdag på same dag.\n",
    "#\n",
    "# p er sannsynet for at alle elevane har bursdagar\n",
    "# på ulike datoar\n",
    "# n er talet på elevar\n",
    "\n",
    "# Initierer p og n\n",
    "p = 1\n",
    "n = 0\n",
    "\n",
    "while p > 1/2:\n",
    "    n = n+1                   # Aukar elevtalet\n",
    "    p = p*(365-n+1)/365       # Oppdaterer sannsyn\n",
    "\n",
    "# Skriv resultatet til skjerm\n",
    "print(f'n = {n:.2f}')"
   ]
  },
  {
   "cell_type": "code",
   "execution_count": 41,
   "id": "86cd9e65-0ce8-4b09-86d7-a66a071d6736",
   "metadata": {},
   "outputs": [
    {
     "name": "stdout",
     "output_type": "stream",
     "text": [
      "x = 0.29\n",
      "x = 0.92\n",
      "x = 0.37\n",
      "x = 0.87\n",
      "x = 0.42\n",
      "x = 0.84\n",
      "x = 0.45\n"
     ]
    }
   ],
   "source": [
    "# FiksePunktFor.m\n",
    "\n",
    "# Skript som forsøker å løsye ei likning ved \n",
    "# fikspunktiterasjon, x_{n+1}=f(x_n)\n",
    "\n",
    "# Start-verdi\n",
    "x = 1\n",
    "\n",
    "for i in range(1, 8):\n",
    "    x = (np.cos(x))**2     # Iterasjonsformel\n",
    "    print(f'x = {x:.2f}')\n"
   ]
  },
  {
   "cell_type": "code",
   "execution_count": 42,
   "id": "474b70fb-4362-40d9-86c1-5099b98b5063",
   "metadata": {},
   "outputs": [
    {
     "name": "stdout",
     "output_type": "stream",
     "text": [
      "x = 0.64\n"
     ]
    }
   ],
   "source": [
    "# Halvering.m\n",
    "\n",
    "# Implementering av halveringsmetoden for likninga f(x)=0 der \n",
    "# f er kontinuerleg på [a,b] og f(a) og f(b) har ulike forteikn.\n",
    "\n",
    "# Grenser\n",
    "a = 0\n",
    "b = np.pi/2\n",
    "\n",
    "def null_funk(x):\n",
    "    \"\"\"Gir funksjonen som skal vere null\"\"\"\n",
    "    return np.sqrt(x)-np.cos(x)\n",
    "\n",
    "# Funksjonsverdiar\n",
    "fa = null_funk(a)\n",
    "fb = null_funk(b)\n",
    "\n",
    "# Startar for-løkke som blir køyrd 10 gonger\n",
    "while b-a > 1e-3:\n",
    "    c = (a+b)/2          # Midtpunktet\n",
    "    fc = null_funk(c)     # Funksjonsverdi i midtpunktet\n",
    "    if fa*fc < 0:\n",
    "        b = c            # Set ny b til c\n",
    "    else:\n",
    "        a = c            # Set ny a til c\n",
    "\n",
    "# Reknar ut nytt midtpunkt og skriv svaret til skjerm\n",
    "x = (a+b)/2\n",
    "print(f'x = {x:.2f}')"
   ]
  },
  {
   "cell_type": "code",
   "execution_count": 43,
   "id": "e3b6abb2-ac14-4271-83b4-8a962d30c137",
   "metadata": {},
   "outputs": [
    {
     "name": "stdout",
     "output_type": "stream",
     "text": [
      "x = 0.64\n",
      "iterasjonar = 11.00\n"
     ]
    }
   ],
   "source": [
    "# HalveringV2.m\n",
    "\n",
    "# Implementering av halveringsmetoden for likninga f(x)=0 der \n",
    "# f er kontinuerleg på [a,b] og f(a) og f(b) har ulike forteikn.\n",
    "\n",
    "# Grenser\n",
    "a = 0\n",
    "b = np.pi/2\n",
    "\n",
    "def null_funk(x):\n",
    "    \"\"\"Gir funksjonen som skal vere null\"\"\"\n",
    "    return np.sqrt(x)-np.cos(x)\n",
    "\n",
    "# Funksjonsverdiar\n",
    "fa = null_funk(a)\n",
    "fb = null_funk(b)\n",
    "\n",
    "# Initierer variabel som tel iterasjonane\n",
    "iterasjonar = 0\n",
    "\n",
    "# Startar for-løkke som blir køyrd 10 gonger\n",
    "while b-a > 1e-3:\n",
    "    c = (a+b)/2          # Midtpunktet\n",
    "    fc = nullFunk(c)     # Funksjonsverdi i midtpunktet\n",
    "    if fa*fc < 0:\n",
    "        b = c            # Set ny b til c\n",
    "    else:\n",
    "        a = c            # Set ny a til c\n",
    "    iterasjonar = iterasjonar + 1  # Tel iterasjonane\n",
    "\n",
    "# Reknar ut nytt midtpunkt og skriv svaret til skjerm\n",
    "x = (a+b)/2\n",
    "print(f'x = {x:.2f}')\n",
    "\n",
    "# Skriv talet på iterasjonar til skjerm\n",
    "print(f'iterasjonar = {iterasjonar:.2f}')"
   ]
  },
  {
   "cell_type": "code",
   "execution_count": 44,
   "id": "47e5987f-6cb9-4530-a629-94cc46cb804c",
   "metadata": {},
   "outputs": [
    {
     "name": "stdout",
     "output_type": "stream",
     "text": [
      "x = 0.66\n",
      "x = 0.64\n",
      "x = 0.64\n",
      "x = 0.64\n",
      "x = 0.64\n"
     ]
    }
   ],
   "source": [
    "# NewtonMetFor.m\n",
    "\n",
    "# Skript som implementerer Newtons metode\n",
    "\n",
    "# Bestemmer x_0\n",
    "x = 1\n",
    "\n",
    "for i in range(1, 6):\n",
    "    # Iterasjonsformel\n",
    "    x = x-(np.sqrt(x)-np.cos(x))/(1/(2*np.sqrt(x))+np.sin(x))\n",
    "    print(f'x = {x:.2f}')"
   ]
  },
  {
   "cell_type": "code",
   "execution_count": 45,
   "id": "89d83467-48e2-43ea-9762-cd299d0dbc41",
   "metadata": {},
   "outputs": [
    {
     "name": "stdout",
     "output_type": "stream",
     "text": [
      "x = 0.64\n",
      "iterasjonar = 4.00\n"
     ]
    }
   ],
   "source": [
    "# NewtonMetWhile.m\n",
    "\n",
    "# Skript som implementerer Newtons metode\n",
    "\n",
    "# Bestemmer x_0\n",
    "x = 1\n",
    "\n",
    "# Presisjon\n",
    "pres = 1e-5\n",
    "\n",
    "# Talet på iterasjonar\n",
    "iterasjonar = 0\n",
    "\n",
    "# Lagar ein variabel for \"gamal\" x-verdi (tilfeldig tal)\n",
    "xGml = 100\n",
    "\n",
    "while abs(x-xGml) > pres:\n",
    "    # Kopierer den gamle x\n",
    "    xGml = x\n",
    "    # Iterasjonsskjema\n",
    "    x = x-(np.sqrt(x)-np.cos(x))/(1/(2*np.sqrt(x))+np.sin(x))\n",
    "    # Tel iterasjonar\n",
    "    iterasjonar = iterasjonar+1\n",
    "\n",
    "# Skriv svaret til skjerm\n",
    "print(f'x = {x:.2f}')\n",
    "\n",
    "# Skriv talet på iterasjonar til skjerm\n",
    "print(f'iterasjonar = {iterasjonar:.2f}')\n"
   ]
  },
  {
   "cell_type": "code",
   "execution_count": 46,
   "id": "a3e44b21-f58c-4d41-9abe-b2d3f305a82b",
   "metadata": {},
   "outputs": [
    {
     "name": "stdout",
     "output_type": "stream",
     "text": [
      "[-0.30+0.00j 0.05-0.57j 0.05+0.57j]\n"
     ]
    }
   ],
   "source": [
    "# TredjeGradFunk.m\n",
    "\n",
    "def tredjegrads_funk(a,b,c,d):\n",
    "    \"\"\"Funksjon som løyser tredjegradslikninga\n",
    "    ax^3+bx^2+cx+d=0.\n",
    "    Input er koeffisientane a, b, c, d.\n",
    "    Funksjonen gir dei tre løysingane x_1, x_2 og x_3\n",
    "    som output.\n",
    "    \"\"\"\n",
    "    \n",
    "    # Kontrollerer at det faktisk er ei tredjegradslikning\n",
    "    if a == 0:\n",
    "        print('Dette er ikkje ei tredjegradslikning')\n",
    "        return None\n",
    "    \n",
    "    # Tilordnar parametrar som inngår i løysingsformelen\n",
    "    # Vektor med u_1, u_2 og u_3:\n",
    "    u = np.array([1, complex(-1, cm.sqrt(3))/2, complex(-1, -cm.sqrt(3))/2], dtype=complex)\n",
    "    delta0 = b**2-3*a*c\n",
    "    delta1 = 2*b**3-9*a*b*c+27*a**2*d\n",
    "    \n",
    "    # Stor C. NB! Ulik input-variabelen c.\n",
    "    C = ((delta1+cm.sqrt(delta1**2-4*delta0**3))/2)**(1/3)\n",
    "    \n",
    "    # Løysinga\n",
    "    if abs(delta0) < 1e-14 and abs(delta1) < 1e-14:\n",
    "        # Spesialtilfelle: 3 like røter\n",
    "        x = -b/(3*a)\n",
    "    elif abs(delta0) < 1e-14 and delta1 < 0:\n",
    "        # Endrar C i dette tilfellet\n",
    "        C = delta1**(1/3)\n",
    "        x = -1/(3*a)*(b+u*C+delta0/(u*C))\n",
    "    else:\n",
    "        x = -1/(3*a)*(b+u*C+delta0/(u*C))\n",
    "        \n",
    "    return x\n",
    "\n",
    "print(tredjegrads_funk(10,2,3,1))"
   ]
  },
  {
   "cell_type": "code",
   "execution_count": null,
   "id": "ad71617c-501f-41fb-83b0-ae282ffcb0f8",
   "metadata": {},
   "outputs": [],
   "source": []
  }
 ],
 "metadata": {
  "kernelspec": {
   "display_name": "Python 3 (ipykernel)",
   "language": "python",
   "name": "python3"
  },
  "language_info": {
   "codemirror_mode": {
    "name": "ipython",
    "version": 3
   },
   "file_extension": ".py",
   "mimetype": "text/x-python",
   "name": "python",
   "nbconvert_exporter": "python",
   "pygments_lexer": "ipython3",
   "version": "3.12.4"
  }
 },
 "nbformat": 4,
 "nbformat_minor": 5
}
