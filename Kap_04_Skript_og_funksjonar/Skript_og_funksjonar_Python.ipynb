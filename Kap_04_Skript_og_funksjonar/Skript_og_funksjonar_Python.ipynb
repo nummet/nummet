{
 "cells": [
  {
   "cell_type": "markdown",
   "id": "687ce424-edec-4ef9-b155-49b0169b7450",
   "metadata": {},
   "source": [
    "# Kapittel 5"
   ]
  },
  {
   "cell_type": "code",
   "execution_count": 1,
   "id": "796eeb5d-4865-4f62-acd2-113f92a0b651",
   "metadata": {},
   "outputs": [],
   "source": [
    "# Import\n",
    "import numpy as np\n",
    "import matplotlib.pyplot as plt"
   ]
  },
  {
   "cell_type": "code",
   "execution_count": 9,
   "id": "fb2e7780-e86e-4f88-918d-a8ff9c82fbc5",
   "metadata": {},
   "outputs": [
    {
     "name": "stdin",
     "output_type": "stream",
     "text": [
      "Gi verdien for a:  1\n",
      "Gi verdien for b:  -11\n",
      "Gi verdien for c:  30\n"
     ]
    },
    {
     "name": "stdout",
     "output_type": "stream",
     "text": [
      "x1 = 5.0\n",
      "x2 = 6.0\n"
     ]
    }
   ],
   "source": [
    "# ABCformel.m\n",
    "\n",
    "\"\"\"Skript som finn løysingane av andregradslikninga,\n",
    "\n",
    "a x^2 + b x + c = 0.\n",
    "Koeffisientane a, b og c blir lest inn frå skjerm.\n",
    "\"\"\"\n",
    "\n",
    "# Importerar NumPy-biblioteket\n",
    "import numpy as np\n",
    "\n",
    "# Les inn koeffisientane\n",
    "a = float(input('Gi verdien for a: '))\n",
    "b = float(input('Gi verdien for b: '))\n",
    "c = float(input('Gi verdien for c: '))\n",
    "\n",
    "# Reknar ut løysingane\n",
    "x1 = (-b-np.sqrt(b**2-4*a*c))/(2*a)\n",
    "x2 = (-b+np.sqrt(b**2-4*a*c))/(2*a)\n",
    "\n",
    "# Skriv løysingane til skjerm\n",
    "print(f'x1 = {x1}')\n",
    "print(f'x2 = {x2}')"
   ]
  },
  {
   "cell_type": "code",
   "execution_count": 12,
   "id": "c85b0d36-3843-4bbc-9894-6190af585378",
   "metadata": {},
   "outputs": [
    {
     "name": "stdin",
     "output_type": "stream",
     "text": [
      "Gi verdien for a:  1\n",
      "Gi verdien for b:  -2\n",
      "Gi verdien for c:  -4\n"
     ]
    },
    {
     "name": "stdout",
     "output_type": "stream",
     "text": [
      "x1 = -1.23607\n",
      "x2 = 3.23607\n"
     ]
    }
   ],
   "source": [
    "# ABCformelV2.m\n",
    "\n",
    "\"\"\"Dette skriptet løyser likninga \n",
    "a x^2 + b x + c = 0 .\n",
    "Vi er her berre interesserte i reelle løysingar.\n",
    "Dersom der berre er ei løysing, blir denne skriven til\n",
    "skjerm ein gong.\n",
    "\"\"\"\n",
    "\n",
    "# Importerar NumPy\n",
    "import numpy as np\n",
    "\n",
    "# Les inn verdiane for a, b og c:\n",
    "a = float(input('Gi verdien for a: '))\n",
    "b = float(input('Gi verdien for b: '))\n",
    "c = float(input('Gi verdien for c: '))\n",
    "\n",
    "# Ser om det er ei førstegradslikning\n",
    "if a==0:\n",
    "    if b==0:\n",
    "        print('Inga løysing')\n",
    "    else:      \n",
    "        x = -c/b\n",
    "        print(f'x = {x:.5f}')\n",
    "\n",
    "# Undersøker om vi har to, ei eller ingen reelle løysingar\n",
    "elif b**2-4*a*c<0:              # Inga reell løysing\n",
    "    print('Inga reell løysing')\n",
    "elif b**2-4*a*c==0:             # Ei løysing\n",
    "    x = -b/(2*a)\n",
    "    print(f'x = {x:.5f}')\n",
    "else:                           # To løysingar\n",
    "    x1 = (-b-np.sqrt(b**2-4*a*c))/(2*a)\n",
    "    x2 = (-b+np.sqrt(b**2-4*a*c))/(2*a)\n",
    "    print(f'x1 = {x1:.5f}')\n",
    "    print(f'x2 = {x2:.5f}')"
   ]
  },
  {
   "cell_type": "code",
   "execution_count": 4,
   "id": "3c5e7e21-542b-457c-86a3-931d6bb974ee",
   "metadata": {},
   "outputs": [
    {
     "name": "stdout",
     "output_type": "stream",
     "text": [
      "f = 3.00\n",
      "f = 2.00\n"
     ]
    }
   ],
   "source": [
    "# ABCformelV2.m\n",
    "\n",
    "def delt_forskrift(x):\n",
    "    \"\"\" Funsjonen f(x) der f=cos(pi*x) + 2 når x<0 og\n",
    "    x^2-2 når x er større eller lik 2.\n",
    "    Funksjonen tar berre skalarar som input.\n",
    "    \"\"\"\n",
    "\n",
    "    if x < 2:\n",
    "        f = np.cos(np.pi*x)+2\n",
    "    else:\n",
    "        f = x**2-2\n",
    "\n",
    "    return f\n",
    "\n",
    "print(f'f = {delt_forskrift(0):.4f}')\n",
    "print(f'f = {delt_forskrift(2):.4f}')"
   ]
  },
  {
   "cell_type": "code",
   "execution_count": 5,
   "id": "2ba9fe87-1975-4f9a-877e-99602e37fd34",
   "metadata": {},
   "outputs": [
    {
     "name": "stdout",
     "output_type": "stream",
     "text": [
      "funk = 0.54\n"
     ]
    }
   ],
   "source": [
    "# Funk.m\n",
    "\n",
    "def funk(x):\n",
    "    \"\"\" Funksjonen f(x)=x^2 cos x.\n",
    "    Funksjonen tar berre skalarar som input.\n",
    "    \"\"\"\n",
    "\n",
    "    return x**2*np.cos(x)\n",
    "\n",
    "print(f'funk = {funk(1):.4f}')"
   ]
  },
  {
   "cell_type": "code",
   "execution_count": 7,
   "id": "256299ee-6441-4cbd-bf8d-a9972a73c175",
   "metadata": {},
   "outputs": [
    {
     "name": "stdin",
     "output_type": "stream",
     "text": [
      "Beløp i norske kroner:  153\n"
     ]
    },
    {
     "name": "stdout",
     "output_type": "stream",
     "text": [
      "Beløp i euro: 17.00\n",
      "Beløp i pund: 11.94\n",
      "Beløp i svenske kroner: 160.55\n"
     ]
    }
   ],
   "source": [
    "# KursKonvertering.m\n",
    "\n",
    "\"\"\"Skript som reknar ut kva eit beløp i NOK tilsvarar i\n",
    "\n",
    "pund, euro og svenske kroner. Dei aktuelle kursane er\n",
    "fiksert i skriptet.\n",
    "\"\"\"\n",
    "\n",
    "# Kursar\n",
    "kurs_euro = 9\n",
    "kurs_pund = 12.81\n",
    "kurs_SVK = 95.3/100\n",
    "\n",
    "# Les inn beølp i NOK:\n",
    "NOK = float(input('Beløp i norske kroner: '))\n",
    "\n",
    "# Resultat\n",
    "belop_euro = NOK/kurs_euro\n",
    "belop_pund = NOK/kurs_pund\n",
    "belop_SVK = NOK/kurs_SVK\n",
    "\n",
    "print(f'Beløp i euro: {belop_euro:.2f}')\n",
    "print(f'Beløp i pund: {belop_pund:.2f}')\n",
    "print(f'Beløp i svenske kroner: {belop_SVK:.2f}')"
   ]
  },
  {
   "cell_type": "code",
   "execution_count": 7,
   "id": "1c476e07-8668-495f-b4c9-bb9f938e3dc0",
   "metadata": {},
   "outputs": [
    {
     "data": {
      "image/png": "[encoded data removed]",
      "text/plain": [
       "<Figure size 640x480 with 1 Axes>"
      ]
     },
     "metadata": {},
     "output_type": "display_data"
    }
   ],
   "source": [
    "# LagPlott.m\n",
    "\n",
    "\"\"\"Dette skriptet plottar to funksjonar.\"\"\"\n",
    "\n",
    "# Vektor med argumentverdiar\n",
    "x = np.arange(-5.0, 5.0, 0.05)\n",
    "# Vektorar med funksjonsverdiar\n",
    "y = np.sin(np.exp(x))\n",
    "z = np.exp(np.sin(x))\n",
    "\n",
    "# Plottar funksjonane saman\n",
    "plt.plot(x, y, 'b-')\n",
    "plt.plot(x, z, 'r-')\n",
    "plt.show()"
   ]
  },
  {
   "cell_type": "code",
   "execution_count": 10,
   "id": "3a3541df-2490-4f21-8ad0-52abe00fa6df",
   "metadata": {},
   "outputs": [
    {
     "name": "stdin",
     "output_type": "stream",
     "text": [
      "Gi eit tal:  2\n"
     ]
    },
    {
     "name": "stdout",
     "output_type": "stream",
     "text": [
      "Talet er positivt eller null\n",
      "Talet er eit partal\n"
     ]
    }
   ],
   "source": [
    "# TypeTal.m\n",
    "\n",
    "\"\"\"Skript som les inn eit tal og avgjer om talet er\n",
    "positivt eller negativt, om det er eit heiltal eller\n",
    "ikkje og - dersom det er eit heiltal - om det er eit\n",
    "partal eller eit oddetal\n",
    "\"\"\"\n",
    "\n",
    "# Les inn tal frå kommandovindauga\n",
    "x = float(input('Gi eit tal: '))\n",
    "\n",
    "# Avgjer om talet er positivt eller negativt\n",
    "if x<0:\n",
    "    print('Talet er negativt')\n",
    "else:\n",
    "    print('Talet er positivt eller null')\n",
    "\n",
    "# Avgjer om talet er eit heiltal\n",
    "if round(x)!=x:\n",
    "     print('Talet er ikkje eit heiltal')\n",
    "else:\n",
    "    # Avgjer om talet er eit partal\n",
    "    if round(x/2)==x/2:\n",
    "        print('Talet er eit partal')\n",
    "    else:\n",
    "        print('Talet er eit oddetal')   "
   ]
  },
  {
   "cell_type": "code",
   "execution_count": null,
   "id": "41e860bd-5b1f-436e-be2d-0478882f07f0",
   "metadata": {},
   "outputs": [],
   "source": []
  }
 ],
 "metadata": {
  "kernelspec": {
   "display_name": "Python 3 (ipykernel)",
   "language": "python",
   "name": "python3"
  },
  "language_info": {
   "codemirror_mode": {
    "name": "ipython",
    "version": 3
   },
   "file_extension": ".py",
   "mimetype": "text/x-python",
   "name": "python",
   "nbconvert_exporter": "python",
   "pygments_lexer": "ipython3",
   "version": "3.12.4"
  }
 },
 "nbformat": 4,
 "nbformat_minor": 5
}
