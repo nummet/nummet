{
 "cells": [
  {
   "cell_type": "markdown",
   "id": "b667686b-b829-43ab-9dde-b40f98281624",
   "metadata": {},
   "source": [
    "# Kapittel 6"
   ]
  },
  {
   "cell_type": "code",
   "execution_count": 1,
   "id": "bdbab698-a6eb-47e3-b538-835a0d6b6f2e",
   "metadata": {
    "tags": []
   },
   "outputs": [],
   "source": [
    "# Importerar bibliotek\n",
    "import numpy as np\n",
    "\n",
    "np.set_printoptions(linewidth=400, precision=4, floatmode='fixed', suppress=True)"
   ]
  },
  {
   "cell_type": "code",
   "execution_count": 2,
   "id": "684e2509-967b-424e-a975-3d21f9f1578f",
   "metadata": {
    "tags": []
   },
   "outputs": [
    {
     "name": "stdout",
     "output_type": "stream",
     "text": [
      "s = 385.00\n"
     ]
    }
   ],
   "source": [
    "# Set summen til 0\n",
    "s = 0\n",
    "\n",
    "for i in range(0,11): # Bestemmer summasjonsgrensene\n",
    "    s = s+i**2        # Legg til eit ledd\n",
    "\n",
    "# Skriv summen til skjerm:\n",
    "print(f's = {s:.2f}')"
   ]
  },
  {
   "cell_type": "code",
   "execution_count": 3,
   "id": "5ef8e8f6-ba8d-4ee7-bde4-d9226e318f28",
   "metadata": {},
   "outputs": [
    {
     "name": "stdout",
     "output_type": "stream",
     "text": [
      "s = 5.4582\n"
     ]
    }
   ],
   "source": [
    "# Impoterer NumPy\n",
    "import numpy as np\n",
    "\n",
    "# Set grenser\n",
    "a = -5\n",
    "b = 10\n",
    "\n",
    "# Funksjon for ledda i summen\n",
    "def ledd(i):\n",
    "    return 1/np.sqrt(i**2 + 1)\n",
    "\n",
    "# Set summen til 0\n",
    "s = 0\n",
    "\n",
    "for i in range(a, b+1):     # Bestemmer summasjonsgrensene\n",
    "    s = s + ledd(i)         # Legg til eit ledd\n",
    "\n",
    "# Skriv summen til skjerm:\n",
    "print(f's = {s:.4f}')"
   ]
  },
  {
   "cell_type": "code",
   "execution_count": 6,
   "id": "446507ba-05ba-45ae-baa7-5ee334ccd83c",
   "metadata": {
    "tags": []
   },
   "outputs": [
    {
     "name": "stdout",
     "output_type": "stream",
     "text": [
      "x = 0.6420\n"
     ]
    }
   ],
   "source": [
    "\"\"\"Implementering av halveringsmetoden for likninga f(x)=0\n",
    "der f er kontinuerleg på [a,b] og f(a) og f(b) har ulike\n",
    "forteikn.\n",
    "\"\"\"\n",
    "\n",
    "# Importerer NumPy\n",
    "import numpy as np\n",
    "\n",
    "# Grenser\n",
    "a = 0\n",
    "b = np.pi/2\n",
    "\n",
    "def null_funk(x):\n",
    "    \"\"\"Gir funksjonen som skal vere null\"\"\"\n",
    "    return np.sqrt(x)-np.cos(x)\n",
    "    \n",
    "# Funksjonsverdiar\n",
    "fa = null_funk(a)\n",
    "fb = null_funk(b)\n",
    "\n",
    "# Startar for-løkke som blir køyrd 10 gonger\n",
    "for i in range(1,11):\n",
    "    c = (a+b)/2      # Midtpunktet\n",
    "    fc = null_funk(c)# Funksjonsverdi i midtpunktet\n",
    "    if fa*fc<0:\n",
    "        b = c        # Set ny b til c\n",
    "    else:\n",
    "        a = c        # Set ny a til c\n",
    "\n",
    "# Reknar ut nytt midtpunkt og skriv svaret til skjerm\n",
    "x = (a+b)/2\n",
    "print(f'x = {x:.4f}')"
   ]
  },
  {
   "cell_type": "code",
   "execution_count": 9,
   "id": "a1f82d0e-6c23-402d-bfea-7efd0674bb27",
   "metadata": {
    "tags": []
   },
   "outputs": [
    {
     "name": "stdout",
     "output_type": "stream",
     "text": [
      "x = [-2 -1  0  1  2  3]\n",
      "maks_funk(x) = 3.00\n",
      "x = [ 7.0000  3.1416 -4.0000 14.0000  3.0000  9.0000]\n",
      "maks_funk(x) = 14.00\n"
     ]
    }
   ],
   "source": [
    "def maks_funk(x):\n",
    "    \"\"\"Funksjon som finn det største elementet i vektoren x.\n",
    "    \"\"\"\n",
    "    \n",
    "    # Tilordnar m - det foreløpig største elementet\n",
    "    m = x[0]\n",
    "\n",
    "    # for-løkke som går gjennom x\n",
    "    for elem in x:\n",
    "        if elem > m:\n",
    "            # Om elementet er større enn M, oppdaterer vi M\n",
    "            m = elem\n",
    "\n",
    "    return m\n",
    "\n",
    "x = np.arange(-2,4)\n",
    "print(f'x = {x}')\n",
    "print(f'maks_funk(x) = {maks_funk(x):.2f}')\n",
    "\n",
    "x = np.array([7, np.pi, -4, 14, 3, 9])\n",
    "print(f'x = {x}')\n",
    "print(f'maks_funk(x) = {maks_funk(x):.2f}')    "
   ]
  },
  {
   "cell_type": "code",
   "execution_count": 10,
   "id": "91a4d636-5525-457b-9c55-0dd4b844a4d1",
   "metadata": {},
   "outputs": [
    {
     "name": "stdout",
     "output_type": "stream",
     "text": [
      "maks_funk(y) = 2.9926407\n"
     ]
    }
   ],
   "source": [
    "# Funksjons som er maksimalt 3.\n",
    "def funk(x):\n",
    "    return 3-(x-np.sqrt(2))**2\n",
    "\n",
    "# Vektor med x- og y-verdiar\n",
    "x = np.arange(-2, 3, 0.5)\n",
    "y = funk(x)\n",
    "\n",
    "# Maksimal y\n",
    "print(f'maks_funk(y) = {maks_funk(y):.7f}')    "
   ]
  },
  {
   "cell_type": "code",
   "execution_count": 11,
   "id": "890de16e-c0ae-4494-8420-d8a21f170d23",
   "metadata": {
    "tags": []
   },
   "outputs": [
    {
     "name": "stdout",
     "output_type": "stream",
     "text": [
      "fakultet(0) = 1\n",
      "fakultet(4) = 24\n",
      "fakultet(10) = 3628800\n",
      "fakultet(20) = 2432902008176640000\n"
     ]
    }
   ],
   "source": [
    "def fakultet(n):\n",
    "    \"\"\"Funksjon som reknar ut n! - n fakultet.\n",
    "    n må vere eit naturleg tal.\n",
    "    \"\"\"\n",
    "    \n",
    "    f = 1       # Set startverdien til 1\n",
    "\n",
    "    for i in range(1,n+1):\n",
    "        f = f*i # Gongar med neste faktor\n",
    "\n",
    "    return f\n",
    "\n",
    "# Reknar ut nokre funksjonsverdiar\n",
    "print(f'fakultet(0) = {fakultet(0)}')\n",
    "print(f'fakultet(4) = {fakultet(4)}')\n",
    "print(f'fakultet(10) = {fakultet(10)}')\n",
    "print(f'fakultet(20) = {fakultet(20)}') "
   ]
  },
  {
   "cell_type": "code",
   "execution_count": null,
   "id": "35be5260-b592-4497-9265-50ab8b15a4e6",
   "metadata": {},
   "outputs": [],
   "source": []
  }
 ],
 "metadata": {
  "kernelspec": {
   "display_name": "Python 3 (ipykernel)",
   "language": "python",
   "name": "python3"
  },
  "language_info": {
   "codemirror_mode": {
    "name": "ipython",
    "version": 3
   },
   "file_extension": ".py",
   "mimetype": "text/x-python",
   "name": "python",
   "nbconvert_exporter": "python",
   "pygments_lexer": "ipython3",
   "version": "3.12.4"
  }
 },
 "nbformat": 4,
 "nbformat_minor": 5
}
