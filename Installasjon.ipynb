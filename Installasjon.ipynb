{
 "cells": [
  {
   "cell_type": "markdown",
   "id": "cb1f9492-74e4-418b-b2e7-c13ca9ee09fd",
   "metadata": {},
   "source": [
    "# Installasjonsinstrukser\n",
    "\n",
    "Gå igjennom installasjonsinstruksene nedenfor for å installere og kjøre Jupyter lab."
   ]
  },
  {
   "cell_type": "markdown",
   "id": "53c12470-697f-4216-8b00-c6c05d6de833",
   "metadata": {},
   "source": [
    "## Installasjon av Anaconda/miniconda\n",
    "* Gå til https://docs.conda.io/projects/conda/en/latest/user-guide/install, velg korrekt OS og installer miniconda\n",
    "* Åpne en terminal/shell (eller Anaconda prompt (miniconda3) hvis du har Windows) og kjør:\n",
    "\n",
    "```\n",
    "conda update -n base -c conda-forge conda\n",
    "```"
   ]
  },
  {
   "cell_type": "markdown",
   "id": "192427f5-b82f-479e-ba45-3c238051f82f",
   "metadata": {},
   "source": [
    "## Installasjon av Jupyter lab og avhengigheter vi bruker i emnet i et eget miljø (environment) med navn \"jupyterlab\"\n",
    "* Åpne en terminal/shell (eller Anaconda prompt (miniconda3) hvis du har Windows) og kjør:\n",
    "\n",
    "```\n",
    "conda create -n jupyterlab python=3.12\n",
    "conda activate jupyterlab\n",
    "\n",
    "conda install -c conda-forge jupyterlab matplotlib numpy scipy sympy \n",
    "```"
   ]
  },
  {
   "cell_type": "markdown",
   "id": "15c1e553-92da-49ff-930e-8f82c86794b9",
   "metadata": {},
   "source": [
    "## Installasjon av MATLAB-kjerne for Jupyter (kun nødvendig hvis du vil kjøre MATLAB-kode i en Jupyter notebook)\n",
    "* MATLAB må være installert og startet\n",
    "* Åpne en terminal/shell (eller Anaconda prompt (miniconda3) hvis du har Windows) og kjør:\n",
    "\n",
    "```\n",
    "conda activate jupyterlab\n",
    "python -m pip install jupyter-matlab-proxy\n",
    "```\n",
    "\n",
    "* Les mer om MATLAB proxy på https://github.com/mathworks/jupyter-matlab-proxy"
   ]
  },
  {
   "cell_type": "markdown",
   "id": "438be43e-8f05-4344-a6f9-2d020b10b30e",
   "metadata": {},
   "source": [
    "## Oppstart av Jupyter lab\n",
    "* Åpne en terminal/shell (eller Anaconda prompt (miniconda3) hvis du har Windows) og kjør:\n",
    "\n",
    "```\n",
    "conda activate jupyterlab\n",
    "jupyter lab\n",
    "```"
   ]
  },
  {
   "cell_type": "markdown",
   "id": "28c98183-17bf-4a00-b1ea-40386d669aed",
   "metadata": {},
   "source": [
    "## Sjekk ut dette GitHub-repoet for å kjøre Jupyter notebook-ene som hører til læreboken \"Praktisk introduksjon til numeriske metodar\"\n",
    "* Hvis du ikke allerede har Git (test ved å kjøre \"git\" fra en terminal (cmd)): Installer Git fra https://www.git-scm.com/downloads\n",
    "* (Dersom du har Windows: Åpne en terminal (cmd) og kjør `git config --global --add core.autocrlf false`)\n",
    "* Åpne en terminal (cmd), naviger til den katalogen/mappen du vil sjekke ut repoet til og kjør:\n",
    "\n",
    "```\n",
    "git clone https://github.com/setmar/nummet.git\n",
    "```"
   ]
  },
  {
   "cell_type": "code",
   "execution_count": null,
   "id": "062398e5-2c67-4ef0-8c09-e523bbec6493",
   "metadata": {},
   "outputs": [],
   "source": []
  }
 ],
 "metadata": {
  "kernelspec": {
   "display_name": "Python 3 (ipykernel)",
   "language": "python",
   "name": "python3"
  },
  "language_info": {
   "codemirror_mode": {
    "name": "ipython",
    "version": 3
   },
   "file_extension": ".py",
   "mimetype": "text/x-python",
   "name": "python",
   "nbconvert_exporter": "python",
   "pygments_lexer": "ipython3",
   "version": "3.12.4"
  }
 },
 "nbformat": 4,
 "nbformat_minor": 5
}
