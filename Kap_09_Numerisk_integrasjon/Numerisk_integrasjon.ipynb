{
 "cells": [
  {
   "cell_type": "markdown",
   "id": "eba0e56d-2b04-4bd7-8f4b-1d077aa58d86",
   "metadata": {},
   "source": [
    "# Kapittel 9"
   ]
  },
  {
   "cell_type": "code",
   "execution_count": 1,
   "id": "a1fa332d-f645-4043-abcc-2ca4c12699a2",
   "metadata": {},
   "outputs": [],
   "source": [
    "# Importerar bibliotek\n",
    "import sys\n",
    "import random\n",
    "import numpy as np\n",
    "import matplotlib.pyplot as plt"
   ]
  },
  {
   "cell_type": "code",
   "execution_count": 4,
   "id": "d0f14fe5-4794-461c-9481-7dea9cf667c8",
   "metadata": {},
   "outputs": [
    {
     "name": "stdin",
     "output_type": "stream",
     "text": [
      "Kor mange rektangel?  4\n"
     ]
    },
    {
     "name": "stdout",
     "output_type": "stream",
     "text": [
      "V = 14.0000\n"
     ]
    }
   ],
   "source": [
    "\"\"\"Implementering som reknar ut ein sum av \n",
    "areal av rektangel.\n",
    "\"\"\"\n",
    "\n",
    "# Talet på rektangel\n",
    "n = int(input('Kor mange rektangel? '))\n",
    "\n",
    "def funk(x):\n",
    "    \"\"\"Funksjonen\"\"\"\n",
    "    return x**3\n",
    "\n",
    "# Grenser\n",
    "a = 1\n",
    "b = 3\n",
    "\n",
    "# Bestemmer h og initierer summen V\n",
    "h = (b-a)/n\n",
    "V = 0\n",
    "\n",
    "for i in range(0, n):\n",
    "    xi = a+i*h              # Oppdaterer x\n",
    "    V = V+h*funk(xi)        # Oppdaterer V\n",
    "\n",
    "# Skriv summen V til skjerm\n",
    "print(f'V = {V:.4f}')"
   ]
  },
  {
   "cell_type": "code",
   "execution_count": 5,
   "id": "19f5f68f-6b6a-45f5-b020-30e466d2260a",
   "metadata": {},
   "outputs": [
    {
     "name": "stdin",
     "output_type": "stream",
     "text": [
      "Kor mange rektangel?  4\n"
     ]
    },
    {
     "name": "stdout",
     "output_type": "stream",
     "text": [
      "V = 14.0000\n",
      "H = 27.0000\n",
      "T = 20.5000\n"
     ]
    }
   ],
   "source": [
    "\"\"\"Implementering som estimerer eit integral på tre måtar:\n",
    "Venstre og høgre Riemann-sum og trapesmetoden.\n",
    "\"\"\"\n",
    "\n",
    "# Talet på rektangel\n",
    "n = int(input('Kor mange rektangel? '))\n",
    "\n",
    "def funk(x):\n",
    "    \"\"\"Funksjonen\"\"\"\n",
    "    return x**3\n",
    "\n",
    "# Grenser\n",
    "a = 1\n",
    "b = 3\n",
    "\n",
    "# Bestemmer h og initierer summane V og H\n",
    "h = (b-a)/n\n",
    "V = 0\n",
    "H = 0\n",
    "\n",
    "# Reknar ut venstresummen\n",
    "for i in range(0, n):\n",
    "    xi = a+i*h\n",
    "    V = V+h*funk(xi)\n",
    "\n",
    "# Reknar ut høgresummen\n",
    "for i in range(1, n+1):\n",
    "    xi = a+i*h\n",
    "    H = H+h*funk(xi)\n",
    "\n",
    "# Skriv summane V, H og T til skjerm\n",
    "print(f'V = {V:.4f}')\n",
    "print(f'H = {H:.4f}')\n",
    "T=(V+H)/2            # Trapessummen\n",
    "print(f'T = {T:.4f}')"
   ]
  },
  {
   "cell_type": "code",
   "execution_count": 6,
   "id": "ff7cf097-7010-47a1-83fe-e3f62a80a2f5",
   "metadata": {},
   "outputs": [
    {
     "name": "stdin",
     "output_type": "stream",
     "text": [
      "Gi oppdelinga n:  10\n"
     ]
    },
    {
     "name": "stdout",
     "output_type": "stream",
     "text": [
      "T = 0.3252\n",
      "feil = 3.9470e-02\n"
     ]
    }
   ],
   "source": [
    "\"\"\"Implementering av trapesmetoden for numerisk\n",
    "integrasjon. Integrasjonsgrensene a og b, oppdelinga n \n",
    "og integranden, funk, blir gitt heilt i toppen av \n",
    "implementeringa. For å gi n brukar vi input-funksjonen.\n",
    "\"\"\"\n",
    "\n",
    "# Nøyaktig integral\n",
    "integral = 2/7\n",
    "\n",
    "# Integrasjonsgrenser\n",
    "a = -1\n",
    "b = 1\n",
    "\n",
    "def funk(x):\n",
    "    \"\"\"Integranden\"\"\"\n",
    "    return x**6\n",
    "\n",
    "# Oppdeling\n",
    "n = int(input('Gi oppdelinga n: '))\n",
    "\n",
    "h = (b-a)/n                  # Steglengda\n",
    "\n",
    "# Bidrag frå endane\n",
    "T = h/2*(funk(a)+funk(b))\n",
    "\n",
    "# Resten av bidraga\n",
    "for i in range(1, n):\n",
    "    xi = a+i*h\n",
    "    T = T+h*funk(xi)\n",
    "\n",
    "# Skriv svaret til skjerm\n",
    "print(f'T = {T:.4f}')\n",
    "\n",
    "# Finn feilen og skriv til skjerm\n",
    "feil = abs(T - integral)\n",
    "print(f'feil = {feil:.4e}')"
   ]
  },
  {
   "cell_type": "code",
   "execution_count": 8,
   "id": "7d6e58a6-eec7-42a6-9701-460a6cd7720d",
   "metadata": {},
   "outputs": [],
   "source": [
    "def riemann_funk_V(funk, a, b, N):\n",
    "    \"\"\"Funksjonsfil som estimerar eit integral\n",
    "    \n",
    "    som ein Riemann-sum på ein regulær partisjon med venstre-\n",
    "    seleksjon.\n",
    "    Integranden og grenser er hard-koda, input er\n",
    "    N, talet på del-intervall.\n",
    "    \"\"\"\n",
    "    \n",
    "    # Oppdeling\n",
    "    delta_x = (b-a)/N\n",
    "    \n",
    "    # Initerar summen:\n",
    "    R = 0\n",
    "    \n",
    "    # Reknar ut summen\n",
    "    for n in range(1, N+1):\n",
    "        x = a+(n-1)*delta_x             # Oppdaterar x\n",
    "        R = R+delta_x*funk(x)           # Oppdaterar summen\n",
    "\n",
    "    return R\n",
    "\n",
    "def trapes_funk(funk, a, b, N):\n",
    "    \"\"\"Implementering av trapesmetoden for numerisk integrasjon.\n",
    "    \n",
    "    Integranden funk, grensene a og b, og oppdelinga N\n",
    "    blir gitt som input.\n",
    "    \"\"\"\n",
    "    \n",
    "    # Steglengda\n",
    "    h = (b-a)/N\n",
    "    \n",
    "    # Bidrag frå endane\n",
    "    T = h/2*(funk(a)+funk(b))\n",
    "    \n",
    "    # Resten av bidraga\n",
    "    for i in range(1, n):\n",
    "        xi = a+i*h\n",
    "        T = T+h*funk(xi)\n",
    "\n",
    "    return T\n",
    "\n",
    "def simpsons_funk(funk, a, b, N):\n",
    "    \"\"\"Funksjonsfil som estimerar eit integral \n",
    "    ved hjelp av Simpsons metode.\n",
    "    Integranden og grenser er hard-koda, input er\n",
    "    N, talet på del-intervall.\n",
    "    \"\"\"\n",
    "    \n",
    "    # Oppdeling\n",
    "    delta_x = (b-a)/N\n",
    "    \n",
    "    # Initerar summen og tar med endane:\n",
    "    S = (funk(a)+funk(b))\n",
    "    \n",
    "    # Oddetalsbidrag\n",
    "    for n in range(1, N, 2):\n",
    "        x = a+n*delta_x           # Oppdaterar x\n",
    "        S = S+4*funk(x)           # Oppdaterar summen\n",
    "    \n",
    "    # Partalssbidrag\n",
    "    for n in range(2, N-1, 2):\n",
    "        x = a+n*delta_x           # Oppdaterar x\n",
    "        S = S+2*funk(x)           # Oppdaterar summen\n",
    "    \n",
    "    # Korrigerar svar med delta_x/3\n",
    "    S = S*delta_x/3\n",
    "    \n",
    "    return S"
   ]
  },
  {
   "cell_type": "code",
   "execution_count": 9,
   "id": "3090ff40-b289-4e82-b6cf-b1bd7f693a25",
   "metadata": {},
   "outputs": [
    {
     "data": {
      "image/png": "[encoded data removed]",
      "text/plain": [
       "<Figure size 640x480 with 1 Axes>"
      ]
     },
     "metadata": {},
     "output_type": "display_data"
    }
   ],
   "source": [
    "\"\"\"Implementering som plottar feilen i eit estimat\n",
    "for ein Riemann-sum, trapesmetoden og Simpsons metode.\n",
    "\"\"\"\n",
    "\n",
    "def funk(x):\n",
    "    \"\"\"Integrand\"\"\"\n",
    "    return x*np.sin(x**2)\n",
    "\n",
    "a = -1\n",
    "b = 3\n",
    "fasit = (np.cos(1)-np.cos(9))/2\n",
    "\n",
    "# Lagar vektor med n-verdiar\n",
    "n_start = 2\n",
    "n_steg = 10\n",
    "n_slutt = 10000\n",
    "n_vektor = np.arange(n_start, n_slutt+1, n_steg)\n",
    "h_vektor = (b-a)/n_vektor\n",
    "\n",
    "V_vektor = np.zeros_like(h_vektor)\n",
    "T_vektor = np.zeros_like(h_vektor)\n",
    "S_vektor = np.zeros_like(h_vektor)\n",
    "\n",
    "# Lagar vektorar med estimat\n",
    "indeks = 0\n",
    "for n in n_vektor:\n",
    "    V_vektor[indeks] = riemann_funk_V(funk, a, b, n)\n",
    "    T_vektor[indeks] = trapes_funk(funk, a, b, n)\n",
    "    S_vektor[indeks] = simpsons_funk(funk, a, b, n)\n",
    "    indeks = indeks+1\n",
    "\n",
    "# Plottar feilen\n",
    "plt.rcParams.update({'font.size': 15})\n",
    "plt.loglog(h_vektor, abs(V_vektor-fasit), 'b-', linewidth=2, \n",
    "           label='Venstre Riemann-sum')\n",
    "plt.loglog(h_vektor, abs(T_vektor-fasit), 'r--', linewidth=2,\n",
    "           label='Trapesmetoden')\n",
    "plt.loglog(h_vektor, abs(S_vektor-fasit), 'k-.', linewidth=2,\n",
    "           label='Simpsons metode')\n",
    "\n",
    "plt.legend(loc='lower right')\n",
    "plt.show()"
   ]
  },
  {
   "cell_type": "code",
   "execution_count": 2,
   "id": "af1f2119-c934-4d54-a0fc-9e5bb5161daa",
   "metadata": {},
   "outputs": [
    {
     "name": "stdout",
     "output_type": "stream",
     "text": [
      "r = 1.0855\n"
     ]
    }
   ],
   "source": [
    "#Brukar ein tilfeldig tal generator go sett \"seed\"-verdi \n",
    "#for å kunne gjenskape plott og resultat i boka. \n",
    "#NB: Ikkje ha med seed til vanlig!\n",
    "# Fra NP doc: \"New code should use the random method of a Generator instance instead; please see the Quick start.\"\n",
    "tilfeldig = np.random.default_rng(seed=1000)\n",
    "\n",
    "a = -1\n",
    "b = 3\n",
    "r = a+(b-a)*tilfeldig.random()\n",
    "print(f'r = {r:.4f}')"
   ]
  },
  {
   "cell_type": "code",
   "execution_count": 26,
   "id": "f9df7fed",
   "metadata": {},
   "outputs": [
    {
     "name": "stdout",
     "output_type": "stream",
     "text": [
      "r = 1.5909\n"
     ]
    }
   ],
   "source": [
    "a = -1\n",
    "b = 3\n",
    "r = a+(b-a)*np.random.rand()\n",
    "print(f'r = {r:.4f}')"
   ]
  },
  {
   "cell_type": "code",
   "execution_count": 11,
   "id": "74fdb9f6-eff3-4762-ae1d-ee400ee1e656",
   "metadata": {},
   "outputs": [
    {
     "data": {
      "image/png": "[encoded data removed]",
      "text/plain": [
       "<Figure size 640x480 with 1 Axes>"
      ]
     },
     "metadata": {},
     "output_type": "display_data"
    },
    {
     "name": "stdout",
     "output_type": "stream",
     "text": [
      "estimat = 0.7370\n"
     ]
    }
   ],
   "source": [
    "\"\"\"Implementeringa estimerer eit integral ved \n",
    "Monte Carlo-metoden.\n",
    "Sjølve integralet, og den analytiske løysninga \n",
    "av det, er spesifisert i starten av koden - i \n",
    "tillegg til det maksimale talet på trekk.\n",
    "\"\"\"\n",
    "\n",
    "# Importerer bibliotek\n",
    "import numpy as np\n",
    "import matplotlib.pyplot as plt\n",
    "\n",
    "# Integrasjonsgrenser\n",
    "a = -1\n",
    "b = 3\n",
    "\n",
    "def funk(x):\n",
    "    \"\"\"Integrand\"\"\"\n",
    "    return x * np.sin(x**2)\n",
    "\n",
    "# Kjent analytisk svar:\n",
    "fasit = (np.cos(1)-np.cos(9))/2\n",
    "\n",
    "# Maksimalt tal på trekk:\n",
    "n_max = 1000\n",
    "\n",
    "# Initierer summen\n",
    "MC_sum = 0\n",
    "\n",
    "# Lagar ein \"generator\" for tilfeldige tal tilfeldig = np.random.default_rng() - se de to cellene over\n",
    "# I denne koden refereres det til feil linjer i boka\n",
    "\n",
    "# Lagar klart plott for estimata - saman med eksakt svar\n",
    "plt.hlines(fasit, 1, n_max, 'k', linestyles = '--')\n",
    "\n",
    "# Vi utfører uttrekka og legg til summen for kvar gong\n",
    "for n in range(1, n_max+1):\n",
    "    x = a+(b-a)*tilfeldig.random()\n",
    "    MC_sum = MC_sum+funk(x)\n",
    "    estimat = (b-a)*MC_sum/n         # Integral-estimat\n",
    "    plt.plot(n, estimat, 'b.')       # Plottar estimat\n",
    "\n",
    "plt.xlim(0, n_max)\n",
    "plt.ylim(-1, 2)\n",
    "plt.show()\n",
    "\n",
    "# Skriv svaret til skjerm\n",
    "print(f'estimat = {estimat:.4f}')"
   ]
  }
 ],
 "metadata": {
  "kernelspec": {
   "display_name": "Python 3 (ipykernel)",
   "language": "python",
   "name": "python3"
  },
  "language_info": {
   "codemirror_mode": {
    "name": "ipython",
    "version": 3
   },
   "file_extension": ".py",
   "mimetype": "text/x-python",
   "name": "python",
   "nbconvert_exporter": "python",
   "pygments_lexer": "ipython3",
   "version": "3.12.4"
  }
 },
 "nbformat": 4,
 "nbformat_minor": 5
}
