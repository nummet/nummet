{
 "cells": [
  {
   "cell_type": "markdown",
   "id": "0c5ad995-e7f2-4569-b4f9-42397674526a",
   "metadata": {},
   "source": [
    "# Kapittel 13"
   ]
  },
  {
   "cell_type": "code",
   "execution_count": 7,
   "id": "fe17b202-a820-4365-bad5-fa8d0037380d",
   "metadata": {},
   "outputs": [
    {
     "data": {
      "text/plain": [
       "-0.11743748980661811"
      ]
     },
     "execution_count": 7,
     "metadata": {},
     "output_type": "execute_result"
    }
   ],
   "source": [
    "# IntGauss.m\n",
    "\n",
    "import numpy as np\n",
    "\n",
    "def IntGauss(mu,sigma,b,N):\n",
    "    \n",
    "    # Funksjon som estimerer int_(mu-b)^(mu+b) f(x) dx - 1/2\n",
    "    # for Gauss-funksjonen\n",
    "    # f(x)=1/(2*sqrt(2*pi))*exp(-(x-mu)^2/(2*sigma^2)).\n",
    "    # Integralet blir estimert ved trapesintegrasjon,\n",
    "    # inputvariabelen N gir talet på punkt brukt i estimatet.\n",
    "    \n",
    "    # Gauss-funksjonen\n",
    "    GaussFunk = lambda x: 1/sigma/np.sqrt(2*np.pi)*np.exp(-(x-mu)**2/2/sigma**2)\n",
    "    \n",
    "    # Bestemmer steglengda\n",
    "    h = 2*b/(N-1)\n",
    "    # Startverdi for x\n",
    "    x = mu-b\n",
    "    #Endepunkt:\n",
    "    Int = (GaussFunk(mu-b)+GaussFunk(mu+b))/2\n",
    "    # for-løkke som går over alle \"indre\" punkt\n",
    "    for ind in range(1, N-1):\n",
    "      x = x+h\n",
    "      Int = Int+GaussFunk(x)\n",
    "    \n",
    "    # Gangar summen med steglengda h for å få integralet\n",
    "    Int = Int*h\n",
    "    \n",
    "    # Bestemmer funksjonen G\n",
    "    return Int-1/2\n",
    "\n",
    "mu = 4\n",
    "sigma = 2\n",
    "#N=input('Talet på punkt i trapesintegrasjon: ')\n",
    "N = 10\n",
    "b = 1\n",
    "IntGauss(mu,sigma,b,N)"
   ]
  },
  {
   "cell_type": "code",
   "execution_count": 11,
   "id": "fc44d392-f9bf-485d-b466-f683967c1f41",
   "metadata": {},
   "outputs": [
    {
     "data": {
      "text/plain": [
       "1.351520653270618"
      ]
     },
     "execution_count": 11,
     "metadata": {},
     "output_type": "execute_result"
    }
   ],
   "source": [
    "# NewtonsMetGauss.m\n",
    "\n",
    "# Skript som løyser likninga \n",
    "# \\int_(mu-b)^(mu+b) f(x) dx = 1/2\n",
    "# ved hjelp av Newtons metode. f(x) er ein Gauss-funksjon\n",
    "# med middelverdi mu og standardavvik sigma.\n",
    "# I tillegg har skriptet inputparametrane N og b0, der N\n",
    "# er talet på punkt brukt i eit trapesestimat av\n",
    "# integralet over, og b0 er startgjettinga for b.\n",
    "# Skriptet brukar funksjonsfila IntGauss.m til å estimere\n",
    "# integralet.\n",
    "\n",
    "# Input-parametrar\n",
    "mu = 4\n",
    "sigma = 2\n",
    "#N=input('Talet på punkt i trapesintegrasjon: ')\n",
    "N = 10\n",
    "b0 = 1\n",
    "\n",
    "# Fikserer presisjonen\n",
    "Pres = 1e-5\n",
    "\n",
    "# Set meir eller mindre tilfeldig verdi for bGml\n",
    "bGml = 10\n",
    "b = b0\n",
    "\n",
    "# Gauss-funksjonen\n",
    "GaussFunk = lambda x: 1/sigma/np.sqrt(2*np.pi)*np.exp(-(x-mu)**2/2/sigma**2)\n",
    "\n",
    "# Itererer til vi får den presisjonen vi vil ha\n",
    "while abs(b-bGml) > Pres:\n",
    "  bGml = b\n",
    "  G = IntGauss(mu,sigma,b,N)\n",
    "  Nemnar = 2*GaussFunk(mu+b)\n",
    "  b = b-G/Nemnar\n",
    "\n",
    "# Skriv svaret til skjerm\n",
    "b\n"
   ]
  },
  {
   "cell_type": "code",
   "execution_count": null,
   "id": "c30d1397-817f-48da-9438-dcc11905c788",
   "metadata": {},
   "outputs": [],
   "source": []
  }
 ],
 "metadata": {
  "kernelspec": {
   "display_name": "Python 3 (ipykernel)",
   "language": "python",
   "name": "python3"
  },
  "language_info": {
   "codemirror_mode": {
    "name": "ipython",
    "version": 3
   },
   "file_extension": ".py",
   "mimetype": "text/x-python",
   "name": "python",
   "nbconvert_exporter": "python",
   "pygments_lexer": "ipython3",
   "version": "3.11.5"
  }
 },
 "nbformat": 4,
 "nbformat_minor": 5
}
