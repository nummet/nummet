{
 "cells": [
  {
   "cell_type": "markdown",
   "id": "b667686b-b829-43ab-9dde-b40f98281624",
   "metadata": {},
   "source": [
    "# Kapittel 6"
   ]
  },
  {
   "cell_type": "code",
   "execution_count": null,
   "id": "684e2509-967b-424e-a975-3d21f9f1578f",
   "metadata": {},
   "outputs": [],
   "source": [
    "# FinnSum.m\n",
    "\n",
    "% Skript som reknar ut ein sum\n",
    "\n",
    "% Set summen til 0\n",
    "S=0;\n",
    "\n",
    "for i=0:10          % Bestemmer summasjonsgrensene\n",
    "  S=S+i^2;          % Legg til eit ledd\n",
    "end\n",
    "\n",
    "% Skriv summen til skjerm:\n",
    "S\n"
   ]
  },
  {
   "cell_type": "code",
   "execution_count": null,
   "id": "446507ba-05ba-45ae-baa7-5ee334ccd83c",
   "metadata": {},
   "outputs": [],
   "source": [
    "# Halvering.m\n",
    "\n",
    "% Implementering av halveringsmetoden for likninga\n",
    "% sqrt(x)-cos(x)=0 med\n",
    "% Grensene er gitt som a og b\n",
    "\n",
    "% Grenser\n",
    "a=0;\n",
    "b=pi/2;\n",
    "\n",
    "% Funksjonsverdiar\n",
    "Fa=sqrt(a)-cos(a);\n",
    "Fb=sqrt(b)-cos(b);\n",
    "\n",
    "% Startar for-løkke som blir køyrd 10 gonger\n",
    "for i=1:10\n",
    "    c=(a+b)/2;       % Midtpunktet\n",
    "  Fc=sqrt(c)-cos(c); % Funksjonsverdi i midtpunktet\n",
    "  if Fa*Fc<0\n",
    "    b=c;             % Set ny b til c\n",
    "  else\n",
    "    a=c;             % Set ny a til c\n",
    "  end\n",
    "end\n",
    "\n",
    "% Reknar ut nytt midtpunkt og skriv svaret til skjerm\n",
    "x=(a+b)/2\n"
   ]
  },
  {
   "cell_type": "code",
   "execution_count": null,
   "id": "dc3cec69-4e21-46e3-bd9d-190a767c45af",
   "metadata": {},
   "outputs": [],
   "source": [
    "# HalveringV2.m\n",
    "\n",
    "% Implementering av halveringsmetoden for likninga f(x)=0\n",
    "% der f er kontinuerleg på [a,b] og f(a) og f(b) har ulike\n",
    "% forteikn.\n",
    "\n",
    "% Grenser\n",
    "a=0;\n",
    "b=pi/2;\n",
    "\n",
    "% Gir funksjonen som skal vere null\n",
    "NullFunk=@(x) sqrt(x)-cos(x);\n",
    "\n",
    "% Funksjonsverdiar\n",
    "Fa=NullFunk(a);\n",
    "Fb=NullFunk(b);\n",
    "\n",
    "% Startar for-løkke som blir køyrd 10 gonger\n",
    "for i=1:10\n",
    "    c=(a+b)/2;        % Midtpunktet\n",
    "  Fc=NullFunk(c);     % Funksjonsverdi i midtpunktet\n",
    "  if Fa*Fc<0\n",
    "    b=c;              % Set ny b til c\n",
    "  else\n",
    "    a=c;              % Set ny a til c\n",
    "  end\n",
    "end\n",
    "\n",
    "% Reknar ut nytt midtpunkt og skriv svaret til skjerm\n",
    "x=(a+b)/2\n"
   ]
  },
  {
   "cell_type": "code",
   "execution_count": null,
   "id": "890de16e-c0ae-4494-8420-d8a21f170d23",
   "metadata": {},
   "outputs": [],
   "source": [
    "# Fakultet.m\n",
    "\n",
    "function F=Fakultet(n)\n",
    "\n",
    "% Funksjon som reknar ut n! - n fakultet\n",
    "% n må vere eit naturleg tal\n",
    "\n",
    "F=1;        % Set startverdien til 1\n",
    "\n",
    "for i=1:n\n",
    "  F=F*i;    % Gongar med neste faktor\n",
    "end\n"
   ]
  },
  {
   "cell_type": "code",
   "execution_count": null,
   "id": "a1f82d0e-6c23-402d-bfea-7efd0674bb27",
   "metadata": {},
   "outputs": [],
   "source": [
    "# MaksFunk.m\n",
    "\n",
    "function M=MaksFunk(x)\n",
    "\n",
    "% Funksjon som finn det største elementet i vektoren x\n",
    "\n",
    "% tilordnar M - det foreløpig største elementet\n",
    "M=x(1);\n",
    "\n",
    "% for-løkke som går gjennom x\n",
    "for xElement=x\n",
    "  if xElement>M\n",
    "% om elementet er større enn M, oppdaterer vi M\n",
    "    M=xElement;\n",
    "  end\n",
    "end\n"
   ]
  }
 ],
 "metadata": {
  "kernelspec": {
   "display_name": "Python 3 (ipykernel)",
   "language": "python",
   "name": "python3"
  },
  "language_info": {
   "codemirror_mode": {
    "name": "ipython",
    "version": 3
   },
   "file_extension": ".py",
   "mimetype": "text/x-python",
   "name": "python",
   "nbconvert_exporter": "python",
   "pygments_lexer": "ipython3",
   "version": "3.11.6"
  }
 },
 "nbformat": 4,
 "nbformat_minor": 5
}
