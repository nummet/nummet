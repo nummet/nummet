{
 "cells": [
  {
   "cell_type": "markdown",
   "id": "b667686b-b829-43ab-9dde-b40f98281624",
   "metadata": {},
   "source": [
    "# Kapittel 6"
   ]
  },
  {
   "cell_type": "markdown",
   "id": "54cecf07-b2db-4c52-a269-d196ba29d5ea",
   "metadata": {},
   "source": [
    "## Installation\n",
    "* (On Windows: Open cmd and run `git config --global --add core.autocrlf false`)\n",
    "* Go to https://docs.conda.io/projects/conda/en/latest/user-guide/install, choose OS and install miniconda  \n",
    "* Open a shell or Anaconda prompt (miniconda3)\n",
    "* Execute:\n",
    "\n",
    "```\n",
    "conda update -n base -c conda-forge conda\n",
    "conda create -n jupyterlab python=3.11\n",
    "conda activate jupyterlab\n",
    "\n",
    "conda install -c conda-forge jupyterlab numpy matplotlib \n",
    "\n",
    "python -m pip install jupyter-matlab-proxy\n",
    "\n",
    "jupyter lab\n",
    "```\n",
    "\n",
    "* See details on Matlab proxy at https://github.com/mathworks/jupyter-matlab-proxy"
   ]
  },
  {
   "cell_type": "markdown",
   "id": "224a26f4-caee-441b-98e6-726c7e8de21a",
   "metadata": {},
   "source": [
    "## Notater / TODO\n",
    "\n",
    "* Lag en yaml-fil for conda-miljø med alle nødvendige pakker  \n",
    "* Gjenskap bokens figurer i notebooks\n",
    "* En notebook per kapittel og en seksjon (merket med Markdown) per underkapittel?\n",
    "* Hvordan håndtere inline kode?\n",
    "* Første versjon av kode: Det minimum av endringer som må til for at koden skal kunne kjøres av en Python interpreter"
   ]
  },
  {
   "cell_type": "code",
   "execution_count": 7,
   "id": "bdbab698-a6eb-47e3-b538-835a0d6b6f2e",
   "metadata": {
    "tags": []
   },
   "outputs": [],
   "source": [
    "import numpy as np"
   ]
  },
  {
   "cell_type": "code",
   "execution_count": 8,
   "id": "684e2509-967b-424e-a975-3d21f9f1578f",
   "metadata": {
    "tags": []
   },
   "outputs": [
    {
     "data": {
      "text/plain": [
       "385"
      ]
     },
     "execution_count": 8,
     "metadata": {},
     "output_type": "execute_result"
    }
   ],
   "source": [
    "# FinnSum.m\n",
    "\n",
    "# Skript som reknar ut ein sum\n",
    "\n",
    "# Set summen til 0\n",
    "S=0\n",
    "\n",
    "for i in range(0,11): # Bestemmer summasjonsgrensene\n",
    "  S=S+i**2            # Legg til eit ledd\n",
    "\n",
    "# Skriv summen til skjerm:\n",
    "S"
   ]
  },
  {
   "cell_type": "code",
   "execution_count": 9,
   "id": "446507ba-05ba-45ae-baa7-5ee334ccd83c",
   "metadata": {
    "tags": []
   },
   "outputs": [],
   "source": [
    "# Halvering.m\n",
    "\n",
    "# Implementering av halveringsmetoden for likninga\n",
    "# sqrt(x)-cos(x)=0 med\n",
    "# Grensene er gitt som a og b\n",
    "\n",
    "# Grenser\n",
    "a=0\n",
    "b=np.pi/2\n",
    "\n",
    "# Funksjonsverdiar\n",
    "Fa=np.sqrt(a)-np.cos(a)\n",
    "Fb=np.sqrt(b)-np.cos(b)\n",
    "\n",
    "# Startar for-løkke som blir køyrd 10 gonger\n",
    "for i in range(0,10):\n",
    "    c=(a+b)/2         # Midtpunktet\n",
    "    Fc=np.sqrt(c)-np.cos(c) # Funksjonsverdi i midtpunktet\n",
    "    if Fa*Fc<0:\n",
    "        b=c           # Set ny b til c\n",
    "    else:\n",
    "        a=c           # Set ny a til c\n",
    "\n",
    "# Reknar ut nytt midtpunkt og skriv svaret til skjerm\n",
    "x=(a+b)/2"
   ]
  },
  {
   "cell_type": "code",
   "execution_count": 10,
   "id": "303f749e-d261-4874-8f32-7a9d5e016bb4",
   "metadata": {
    "tags": []
   },
   "outputs": [
    {
     "data": {
      "text/plain": [
       "0.6419709597301408"
      ]
     },
     "execution_count": 10,
     "metadata": {},
     "output_type": "execute_result"
    }
   ],
   "source": [
    "x"
   ]
  },
  {
   "cell_type": "code",
   "execution_count": 11,
   "id": "dc3cec69-4e21-46e3-bd9d-190a767c45af",
   "metadata": {
    "tags": []
   },
   "outputs": [],
   "source": [
    "# HalveringV2.m\n",
    "\n",
    "# Implementering av halveringsmetoden for likninga f(x)=0\n",
    "# der f er kontinuerleg på [a,b] og f(a) og f(b) har ulike\n",
    "# forteikn.\n",
    "\n",
    "# Grenser\n",
    "a=0\n",
    "b=np.pi/2\n",
    "\n",
    "# Gir funksjonen som skal vere null\n",
    "#NullFunk=lambda x : np.sqrt(x)-np.cos(x) # FEIL I 1. UTGAVE\n",
    "NullFunk=lambda x : np.cos(x/2)-np.arctan(x)\n",
    "\n",
    "# Funksjonsverdiar\n",
    "Fa=NullFunk(a)\n",
    "Fb=NullFunk(b)\n",
    "\n",
    "# Startar for-løkke som blir køyrd 10 gonger\n",
    "for i in range(0,11):\n",
    "    c=(a+b)/2        # Midtpunktet\n",
    "    Fc=NullFunk(c)   # Funksjonsverdi i midtpunktet\n",
    "    if Fa*Fc<0:\n",
    "        b=c      # Set ny b til c\n",
    "    else:\n",
    "        a=c      # Set ny a til c\n",
    "\n",
    "# Reknar ut nytt midtpunkt og skriv svaret til skjerm\n",
    "x=(a+b)/2"
   ]
  },
  {
   "cell_type": "code",
   "execution_count": 12,
   "id": "27a8225f-fcc8-441b-b54e-1dd83493ee5f",
   "metadata": {
    "tags": []
   },
   "outputs": [
    {
     "data": {
      "text/plain": [
       "1.1278593742929177"
      ]
     },
     "execution_count": 12,
     "metadata": {},
     "output_type": "execute_result"
    }
   ],
   "source": [
    "x"
   ]
  },
  {
   "cell_type": "code",
   "execution_count": 13,
   "id": "890de16e-c0ae-4494-8420-d8a21f170d23",
   "metadata": {
    "tags": []
   },
   "outputs": [],
   "source": [
    "# Fakultet.m\n",
    "\n",
    "def fakultet(n):\n",
    "    # Funksjon som reknar ut n! - n fakultet\n",
    "    # n må vere eit naturleg tal\n",
    "    \n",
    "    F=1         # Set startverdien til 1\n",
    "\n",
    "    for i in range(1,n+1):\n",
    "      F=F*i    # Gongar med neste faktor\n",
    "\n",
    "    return F"
   ]
  },
  {
   "cell_type": "code",
   "execution_count": 14,
   "id": "43e4dc07-4bb7-452a-a20c-688b028bda20",
   "metadata": {
    "tags": []
   },
   "outputs": [
    {
     "name": "stdout",
     "output_type": "stream",
     "text": [
      "1\n",
      "24\n",
      "3628800\n",
      "2432902008176640000\n"
     ]
    }
   ],
   "source": [
    "print(fakultet(0))\n",
    "print(fakultet(4))\n",
    "print(fakultet(10))\n",
    "print(fakultet(20))"
   ]
  },
  {
   "cell_type": "code",
   "execution_count": 15,
   "id": "a1f82d0e-6c23-402d-bfea-7efd0674bb27",
   "metadata": {
    "tags": []
   },
   "outputs": [],
   "source": [
    "# MaksFunk.m\n",
    "\n",
    "def maks_funk(x):\n",
    "\n",
    "    # Funksjon som finn det største elementet i vektoren x\n",
    "\n",
    "    # tilordnar M - det foreløpig største elementet\n",
    "    M=x[0]\n",
    "\n",
    "    # for-løkke som går gjennom x\n",
    "    for elem in x:\n",
    "        if elem>M:\n",
    "            # om elementet er større enn M, oppdaterer vi M\n",
    "            M=elem\n",
    "\n",
    "    return M"
   ]
  },
  {
   "cell_type": "code",
   "execution_count": 16,
   "id": "f739ef56-6888-4dc4-b993-03670dd77482",
   "metadata": {
    "tags": []
   },
   "outputs": [
    {
     "name": "stdout",
     "output_type": "stream",
     "text": [
      "[-2 -1  0  1  2  3]\n",
      "3\n",
      "[ 7.          3.14159265 -4.         14.          3.          9.        ]\n",
      "14.0\n"
     ]
    }
   ],
   "source": [
    "x = np.arange(-2,4)\n",
    "print(x)\n",
    "print(maks_funk(x))\n",
    "\n",
    "x=np.array([7, np.pi, -4, 14, 3, 9])\n",
    "print(x)\n",
    "print(maks_funk(x))"
   ]
  },
  {
   "cell_type": "code",
   "execution_count": null,
   "id": "ce8b4a50-5261-40c9-92c8-659c4386eb7d",
   "metadata": {},
   "outputs": [],
   "source": []
  }
 ],
 "metadata": {
  "kernelspec": {
   "display_name": "Python 3 (ipykernel)",
   "language": "python",
   "name": "python3"
  },
  "language_info": {
   "codemirror_mode": {
    "name": "ipython",
    "version": 3
   },
   "file_extension": ".py",
   "mimetype": "text/x-python",
   "name": "python",
   "nbconvert_exporter": "python",
   "pygments_lexer": "ipython3",
   "version": "3.11.5"
  }
 },
 "nbformat": 4,
 "nbformat_minor": 5
}
