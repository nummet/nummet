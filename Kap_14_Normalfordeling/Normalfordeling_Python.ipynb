{
 "cells": [
  {
   "cell_type": "markdown",
   "id": "0c5ad995-e7f2-4569-b4f9-42397674526a",
   "metadata": {},
   "source": [
    "# Kapittel 14"
   ]
  },
  {
   "cell_type": "code",
   "execution_count": 3,
   "id": "66cbcdb0-4081-4682-bef3-a2be44160b9e",
   "metadata": {},
   "outputs": [],
   "source": [
    "# Import\n",
    "import numpy as np"
   ]
  },
  {
   "cell_type": "code",
   "execution_count": 4,
   "id": "fe17b202-a820-4365-bad5-fa8d0037380d",
   "metadata": {},
   "outputs": [
    {
     "name": "stdin",
     "output_type": "stream",
     "text": [
      "Talet på punkt i trapesintegrasjon:  10000\n"
     ]
    },
    {
     "name": "stdout",
     "output_type": "stream",
     "text": [
      "int_gauss(4, 2, 1.349, 10000) = 4.9386e-05\n"
     ]
    }
   ],
   "source": [
    "# IntGauss.m\n",
    "\n",
    "def gauss_funk(x):\n",
    "    \"\"\"Gauss-funksjonen\"\"\"\n",
    "    return 1/sigma/np.sqrt(2*np.pi) * \\\n",
    "            np.exp(-(x-mu)**2/2/sigma**2)\n",
    "    \n",
    "def int_gauss(mu, sigma, b, N):\n",
    "    \"\"\"Funksjon som estimerer     \n",
    "    int_(mu-b)^(mu+b) f(x) dx - 1/2 for Gauss-funksjonen\n",
    "    f(x)=1/(2*sqrt(2*pi))*exp(-(x-mu)^2/(2*sigma^2)).\n",
    "    Integralet blir estimert ved trapesintegrasjon,\n",
    "    inputvariabelen N gir talet på punkt brukt i estimatet.\n",
    "    \"\"\"\n",
    "    \n",
    "    # Bestemmer steglengda\n",
    "    h = 2*b/(N-1)\n",
    "    \n",
    "    # Startverdi for x\n",
    "    x = mu-b\n",
    "    \n",
    "    #Endepunkt:\n",
    "    integral = (gauss_funk(mu-b)+gauss_funk(mu+b))/2\n",
    "    \n",
    "    # for-løkke som går over alle \"indre\" punkt\n",
    "    for ind in range(1, N):\n",
    "        x = x+h\n",
    "        integral = integral+gauss_funk(x)\n",
    "    \n",
    "    # Gangar summen med steglengda h for å få integralet\n",
    "    integral = integral*h\n",
    "    \n",
    "    # Bestemmer funksjonen G\n",
    "    return integral-1/2\n",
    "\n",
    "mu = 4\n",
    "sigma = 2\n",
    "N = int(input('Talet på punkt i trapesintegrasjon: '))\n",
    "b = 1.3490\n",
    "\n",
    "print(f'int_gauss({mu}, {sigma}, {b}, {N}) = {int_gauss(mu, sigma, b, N):.4e}')"
   ]
  },
  {
   "cell_type": "code",
   "execution_count": 6,
   "id": "fc44d392-f9bf-485d-b466-f683967c1f41",
   "metadata": {},
   "outputs": [
    {
     "name": "stdin",
     "output_type": "stream",
     "text": [
      "Talet på punkt i trapesintegrasjon:  200\n"
     ]
    },
    {
     "name": "stdout",
     "output_type": "stream",
     "text": [
      "b = 1.3422\n"
     ]
    }
   ],
   "source": [
    "# NewtonsMetGauss.m\n",
    "\n",
    "\"\"\"Skript som løyser likninga \n",
    "\\\\int_(mu-b)^(mu+b) f(x) dx = 1/2\n",
    "ved hjelp av Newtons metode. f(x) er ein Gauss-funksjon\n",
    "med middelverdi mu og standardavvik sigma.\n",
    "I tillegg har skriptet inputparametrane N og b0, der N\n",
    "er talet på punkt brukt i eit trapesestimat av\n",
    "integralet over, og b0 er startgjettinga for b.\n",
    "Skriptet brukar funksjonen int_gauss(...) til å estimere\n",
    "integralet.\n",
    "\"\"\"\n",
    "\n",
    "# Input-parametrar\n",
    "mu = 4\n",
    "sigma = 2\n",
    "N = int(input('Talet på punkt i trapesintegrasjon: '))\n",
    "b0 = 1\n",
    "\n",
    "# Fikserer presisjonen\n",
    "pres = 1e-5\n",
    "\n",
    "# Set meir eller mindre tilfeldig verdi for b_gml\n",
    "b_gml = 10\n",
    "b = b0\n",
    "\n",
    "# Itererer til vi får den presisjonen vi vil ha\n",
    "while abs(b-b_gml) > pres:\n",
    "    b_gml = b\n",
    "    g = int_gauss(mu, sigma, b, N)\n",
    "    nemnar = 2*gauss_funk(mu+b)\n",
    "    b = b-g/nemnar\n",
    "\n",
    "# Skriv svaret til skjerm\n",
    "print(f'b = {b:.4f}')"
   ]
  },
  {
   "cell_type": "code",
   "execution_count": null,
   "id": "c30d1397-817f-48da-9438-dcc11905c788",
   "metadata": {},
   "outputs": [],
   "source": []
  }
 ],
 "metadata": {
  "kernelspec": {
   "display_name": "Python 3 (ipykernel)",
   "language": "python",
   "name": "python3"
  },
  "language_info": {
   "codemirror_mode": {
    "name": "ipython",
    "version": 3
   },
   "file_extension": ".py",
   "mimetype": "text/x-python",
   "name": "python",
   "nbconvert_exporter": "python",
   "pygments_lexer": "ipython3",
   "version": "3.12.4"
  }
 },
 "nbformat": 4,
 "nbformat_minor": 5
}
