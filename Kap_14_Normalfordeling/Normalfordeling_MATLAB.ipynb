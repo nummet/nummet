{
 "cells": [
  {
   "cell_type": "markdown",
   "id": "62c0142d-e06e-490a-9a08-3287ea8c9b1a",
   "metadata": {},
   "source": [
    "# Kapittel 14"
   ]
  },
  {
   "cell_type": "code",
   "execution_count": 9,
   "id": "f3cdefd3-b657-4d88-9ebd-7ccc3448651e",
   "metadata": {},
   "outputs": [
    {
     "data": {
      "text/html": [
       "<html><body><pre>N = 10</pre></body></html>"
      ],
      "text/plain": [
       "N = 10"
      ]
     },
     "execution_count": 9,
     "metadata": {},
     "output_type": "execute_result"
    },
    {
     "data": {
      "text/html": [
       "<html><body><pre>ans = -0.1174</pre></body></html>"
      ],
      "text/plain": [
       "ans = -0.1174"
      ]
     },
     "execution_count": 9,
     "metadata": {},
     "output_type": "execute_result"
    }
   ],
   "source": [
    "% IntGauss.m\n",
    "\n",
    "mu=4;\n",
    "sigma=2;\n",
    "%N=input('Talet på punkt i trapesintegrasjon: ');\n",
    "N=10\n",
    "b=1;\n",
    "IntGauss(mu,sigma,b,N)\n",
    "\n",
    "function G=IntGauss(mu,sigma,b,N)\n",
    "\n",
    "% Funksjon som estimerer int_(mu-b)^(mu+b) f(x) dx - 1/2\n",
    "% for Gauss-funksjonen\n",
    "% f(x)=1/(2*sqrt(2*pi))*exp(-(x-mu)^2/(2*sigma^2)).\n",
    "% Integralet blir estimert ved trapesintegrasjon,\n",
    "% inputvariabelen N gir talet på punkt brukt i estimatet.\n",
    "\n",
    "% Gauss-funksjonen\n",
    "GaussFunk=@(x) 1/sigma/sqrt(2*pi).*exp(-(x-mu).^2/2/sigma^2);\n",
    "\n",
    "% Bestemmer steglengda\n",
    "h=2*b/(N-1);\n",
    "% Startverdi for x\n",
    "x=mu-b;\n",
    "%Endepunkt:\n",
    "Int=(GaussFunk(mu-b)+GaussFunk(mu+b))/2;\n",
    "% for-løkke som går over alle \"indre\" punkt\n",
    "for ind=2:(N-1)\n",
    "  x=x+h;\n",
    "  Int=Int+GaussFunk(x);\n",
    "end\n",
    "% Gangar summen med steglengda h for å få integralet\n",
    "Int=Int*h;\n",
    "\n",
    "% Bestemmer funksjonen G\n",
    "G=Int-1/2;\n",
    "\n",
    "end\n"
   ]
  },
  {
   "cell_type": "code",
   "execution_count": 11,
   "id": "d54a66f7-f56b-4963-8f68-2f4da3c5a751",
   "metadata": {},
   "outputs": [
    {
     "data": {
      "text/html": [
       "<html><body><pre>N = 10</pre></body></html>"
      ],
      "text/plain": [
       "N = 10"
      ]
     },
     "execution_count": 11,
     "metadata": {},
     "output_type": "execute_result"
    },
    {
     "data": {
      "text/html": [
       "<html><body><pre>b = 1.3515</pre></body></html>"
      ],
      "text/plain": [
       "b = 1.3515"
      ]
     },
     "execution_count": 11,
     "metadata": {},
     "output_type": "execute_result"
    }
   ],
   "source": [
    "% NewtonsMetGauss.m\n",
    "\n",
    "% Skript som løyser likninga \n",
    "% \\int_(mu-b)^(mu+b) f(x) dx = 1/2\n",
    "% ved hjelp av Newtons metode. f(x) er ein Gauss-funksjon\n",
    "% med middelverdi mu og standardavvik sigma.\n",
    "% I tillegg har skriptet inputparametrane N og b0, der N\n",
    "% er talet på punkt brukt i eit trapesestimat av\n",
    "% integralet over, og b0 er startgjettinga for b.\n",
    "% Skriptet brukar funksjonsfila IntGauss.m til å estimere\n",
    "% integralet.\n",
    "\n",
    "% Input-parametrar\n",
    "mu=4;\n",
    "sigma=2;\n",
    "%N=input('Talet på punkt i trapesintegrasjon: ');\n",
    "N=10\n",
    "b0=1;\n",
    "\n",
    "% Fikserer presisjonen\n",
    "Pres=1e-5;\n",
    "\n",
    "% Set meir eller mindre tilfeldig verdi for bGml\n",
    "bGml=10;\n",
    "b=b0;\n",
    "\n",
    "% Gauss-funksjonen\n",
    "GaussFunk=@(x) 1/sigma/sqrt(2*pi).*exp(-(x-mu).^2/2/sigma^2);\n",
    "\n",
    "% Itererer til vi får den presisjonen vi vil ha\n",
    "while abs(b-bGml)>Pres\n",
    "  bGml=b;\n",
    "  G=IntGauss(mu,sigma,b,N);\n",
    "  Nemnar=2*GaussFunk(mu+b);\n",
    "  b=b-G/Nemnar;\n",
    "end\n",
    "\n",
    "% Skriv svaret til skjerm\n",
    "b\n",
    "\n",
    "function G=IntGauss(mu,sigma,b,N)\n",
    "\n",
    "% Funksjon som estimerer int_(mu-b)^(mu+b) f(x) dx - 1/2\n",
    "% for Gauss-funksjonen\n",
    "% f(x)=1/(2*sqrt(2*pi))*exp(-(x-mu)^2/(2*sigma^2)).\n",
    "% Integralet blir estimert ved trapesintegrasjon,\n",
    "% inputvariabelen N gir talet på punkt brukt i estimatet.\n",
    "\n",
    "% Gauss-funksjonen\n",
    "GaussFunk=@(x) 1/sigma/sqrt(2*pi).*exp(-(x-mu).^2/2/sigma^2);\n",
    "\n",
    "% Bestemmer steglengda\n",
    "h=2*b/(N-1);\n",
    "% Startverdi for x\n",
    "x=mu-b;\n",
    "%Endepunkt:\n",
    "Int=(GaussFunk(mu-b)+GaussFunk(mu+b))/2;\n",
    "% for-løkke som går over alle \"indre\" punkt\n",
    "for ind=2:(N-1)\n",
    "  x=x+h;\n",
    "  Int=Int+GaussFunk(x);\n",
    "end\n",
    "% Gangar summen med steglengda h for å få integralet\n",
    "Int=Int*h;\n",
    "\n",
    "% Bestemmer funksjonen G\n",
    "G=Int-1/2;\n",
    "\n",
    "end\n"
   ]
  },
  {
   "cell_type": "code",
   "execution_count": null,
   "id": "3d978a24-4b56-445a-b2ec-d833920be26d",
   "metadata": {},
   "outputs": [],
   "source": []
  }
 ],
 "metadata": {
  "kernelspec": {
   "display_name": "MATLAB Kernel",
   "language": "matlab",
   "name": "jupyter_matlab_kernel"
  },
  "language_info": {
   "file_extension": ".m",
   "mimetype": "text/x-matlab",
   "name": "matlab"
  }
 },
 "nbformat": 4,
 "nbformat_minor": 5
}
