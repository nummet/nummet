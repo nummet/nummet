{
 "cells": [
  {
   "cell_type": "markdown",
   "id": "2008ba7d-1547-45bf-9e86-ea8c283e0251",
   "metadata": {},
   "source": [
    "# Kapittel 5"
   ]
  },
  {
   "cell_type": "code",
   "execution_count": 2,
   "id": "0bbe7221-146e-4a67-a849-f36ecab7917a",
   "metadata": {},
   "outputs": [
    {
     "name": "stderr",
     "output_type": "stream",
     "text": [
      "Error connecting to MATLAB. Check the status of MATLAB by clicking the \"Open MATLAB\" button. Retry after ensuring MATLAB is running successfully"
     ]
    }
   ],
   "source": [
    "% Skript som finn løysingane av andregradslikninga,\n",
    "% a x^2 + b x + c = 0.\n",
    "% Koeffisientane a, b og c blir lest inn frå skjerm.\n",
    "\n",
    "% Koeffisientar\n",
    "a=input('Gi verdien for a: ');\n",
    "b=input('Gi verdien for b: ');\n",
    "c=input('Gi verdien for c: ');\n",
    "\n",
    "% Løysingar\n",
    "x1=(-b-sqrt(b^2-4*a*c))/(2*a)\n",
    "x2=(-b+sqrt(b^2-4*a*c))/(2*a)"
   ]
  },
  {
   "cell_type": "code",
   "execution_count": null,
   "id": "6ed03394-78d0-4e0e-a306-74d5d6eb163a",
   "metadata": {},
   "outputs": [],
   "source": [
    "% Skript som løyser likninga a x^2 + b x + c = 0.\n",
    "% Vi er her berre interesserte i reelle løysingar.\n",
    "\n",
    "% Les inn verdiane for a, b og c:\n",
    "a=input('Gi verdien for a: ');\n",
    "b=input('Gi verdien for b: ');\n",
    "c=input('Gi verdien for c: ');\n",
    "\n",
    "% Ser om det er ei førstegradslikning\n",
    "if a==0\n",
    "    x=-c/b\n",
    "% Undersøker om vi har to, ei eller ingen reelle løysingar\n",
    "elseif b^2-4*a*c<0              % Inga reell løysing\n",
    "    disp('Inga reell løysing')\n",
    "elseif b^2-4*a*c==0             % Ei løysing\n",
    "    x=-b/(2*a)\n",
    "else                            % To løysingar\n",
    "    x1=(-b-sqrt(b^2-4*a*c))/(2*a)\n",
    "    x2=(-b+sqrt(b^2-4*a*c))/(2*a)\n",
    "end"
   ]
  },
  {
   "cell_type": "code",
   "execution_count": null,
   "id": "10f323a8-4935-47cd-92a2-3c0e872f7d3f",
   "metadata": {},
   "outputs": [],
   "source": [
    "function F=DeltForskrift(x)\n",
    "\n",
    "% Funsjonen f(x) der f=cos(pi*x) + 2 når x<0 og\n",
    "% x^2-2 når x er større eller lik 2.\n",
    "% Funksjonen tar berre skalarar som input.\n",
    "\n",
    "if x<2\n",
    "  F=cos(pi*x)+2;\n",
    "else\n",
    "  F=x^2-2;\n",
    "end"
   ]
  },
  {
   "cell_type": "code",
   "execution_count": null,
   "id": "befca8a6-8bdf-4864-ae90-5ca84c0a36ca",
   "metadata": {},
   "outputs": [],
   "source": [
    "function F=Funk(x)\n",
    "\n",
    "% Funksjonen f(x)=x^2 cos x.\n",
    "% Funksjonen tar berre skalarar som input.\n",
    "\n",
    "F=x^2*cos(x);"
   ]
  },
  {
   "cell_type": "code",
   "execution_count": null,
   "id": "4a01ff9e-e969-468f-8bb9-0c9cc05f88a1",
   "metadata": {},
   "outputs": [],
   "source": [
    "% Skript som reknar ut kva eit beløp i NOK tilsvarar i\n",
    "% pund, euro og svenske kroner. Dei aktuelle kursane er\n",
    "% fiksert i skriptet.\n",
    "\n",
    "% Kursar\n",
    "KursEuro=9;\n",
    "KursPund=12.81;\n",
    "KursSVK=95.3/100;\n",
    "\n",
    "% Les inn beølp i NOK:\n",
    "NOK=input('Beløp i norske kroner: ');\n",
    "\n",
    "% Resultat\n",
    "BelopEuro=NOK/KursEuro\n",
    "BelopPund=NOK/KursPund\n",
    "BelopSVK=NOK/KursSVK"
   ]
  },
  {
   "cell_type": "code",
   "execution_count": null,
   "id": "52d5242e-e63a-4d32-a339-051bc661e74b",
   "metadata": {},
   "outputs": [],
   "source": [
    "% Skript som plottar to funksjonar\n",
    "\n",
    "% Vektor med argumentverdiar\n",
    "x=-5:1e-2:5;\n",
    "% Vektorar med funksjonsverdiar\n",
    "y=sin(exp(x));\n",
    "z=exp(sin(x));\n",
    "\n",
    "% Plottar funksjonane saman\n",
    "plot(x,y,'b')\n",
    "hold on\n",
    "plot(x,z,'r')\n",
    "hold off"
   ]
  },
  {
   "cell_type": "code",
   "execution_count": null,
   "id": "9b82079d-2fa2-4ad5-abce-b000464030b2",
   "metadata": {},
   "outputs": [],
   "source": [
    "% Skript som les inn eit tal og avgjer om talet er\n",
    "% positivt eller negativt, om det er eit heiltal eller\n",
    "% ikkje og - dersom det er eit heiltal - om det er eit\n",
    "% partal eller eit oddetal\n",
    "\n",
    "% Les inn tal frå kommandovindauga\n",
    "x=input('Gi eit tal: ');\n",
    "\n",
    "% Avgjer om talet er positivt eller negativt\n",
    "if x<0\n",
    "  disp('Talet er negativt')\n",
    "else\n",
    "  disp('Talet er positivt eller null')\n",
    "end\n",
    "\n",
    "% Avgjer om talet er eit heiltal\n",
    "if round(x)~=x\n",
    "  disp('Talet er ikkje eit heiltal')\n",
    "else\n",
    "% Avgjer om talet er eit partal\n",
    "  if round(x/2)==x/2\n",
    "    disp('Talet er eit partal')\n",
    "  else\n",
    "    disp('Talet er eit oddetal')\n",
    "  end\n",
    "end"
   ]
  }
 ],
 "metadata": {
  "kernelspec": {
   "display_name": "MATLAB Kernel",
   "language": "matlab",
   "name": "jupyter_matlab_kernel"
  },
  "language_info": {
   "file_extension": ".m",
   "mimetype": "text/x-matlab",
   "name": "matlab"
  }
 },
 "nbformat": 4,
 "nbformat_minor": 5
}
