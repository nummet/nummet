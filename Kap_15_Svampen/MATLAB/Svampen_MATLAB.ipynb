{
 "cells": [
  {
   "cell_type": "markdown",
   "id": "90f9efb2-0e85-464d-b54b-9b0dbe22bade",
   "metadata": {},
   "source": [
    "# Kapittel 15"
   ]
  },
  {
   "cell_type": "code",
   "execution_count": 10,
   "id": "2193e93a-8264-47e4-8c66-99483c4c1faf",
   "metadata": {},
   "outputs": [
    {
     "data": {
      "text/html": [
       "<html><body><pre>n = 10</pre></body></html>"
      ],
      "text/plain": [
       "n = 10"
      ]
     },
     "execution_count": 10,
     "metadata": {},
     "output_type": "execute_result"
    },
    {
     "data": {
      "text/html": [
       "<html><body><pre>Overflate = 4.0967e+03</pre></body></html>"
      ],
      "text/plain": [
       "Overflate = 4.0967e+03"
      ]
     },
     "execution_count": 10,
     "metadata": {},
     "output_type": "execute_result"
    }
   ],
   "source": [
    "% OverflateSvampen.m\n",
    "\n",
    "% Skript som brukar trapesmetoden til å rekne ut overflata\n",
    "% av eit vasstårn ut frå ein gitt modell for profilen\n",
    "\n",
    "% Grenser (høgda)\n",
    "a=0;b=60;\n",
    "\n",
    "% Profil på tårn\n",
    "R=@(x) 5+4./(1+exp((35-x)/1.5)).*(sqrt(abs(x))-sqrt(30)).^2;\n",
    "% Derivert\n",
    "dx=1e-3;\n",
    "Rd=@(x) (R(x+dx)-R(x-dx))/(2*dx);\n",
    "% Integrand\n",
    "f=@(x) R(x).*sqrt(1+Rd(x).^2);\n",
    "\n",
    "\n",
    "% Oppdeling\n",
    "%n=input('Gi oppdelinga n: ');\n",
    "n=10\n",
    "h=(b-a)/n;                  % Steglengda\n",
    "\n",
    "% Bidrag frå endane\n",
    "T=h/2*(f(a)+f(b));\n",
    "\n",
    "% Resten av bidraga\n",
    "for i=1:(n-1)\n",
    "    xi=a+i*h;\n",
    "    T=T+h*f(xi);\n",
    "end\n",
    "\n",
    "% Skriv overflata til skjerm\n",
    "Overflate=2*pi*T\n"
   ]
  },
  {
   "cell_type": "code",
   "execution_count": 11,
   "id": "b59eeb01-8b66-4109-aa30-0c83a9c1fadc",
   "metadata": {},
   "outputs": [
    {
     "data": {
      "text/html": [
       "<html><body><pre>N = 10</pre></body></html>"
      ],
      "text/plain": [
       "N = 10"
      ]
     },
     "execution_count": 11,
     "metadata": {},
     "output_type": "execute_result"
    },
    {
     "data": {
      "image/png": "[encoded data removed]"
     },
     "execution_count": 11,
     "metadata": {},
     "output_type": "execute_result"
    }
   ],
   "source": [
    "% PlottVassforbruk.m\n",
    "\n",
    "% Skript som reknar ut vassforbruket som funksjon av tid for ein\n",
    "% tank som blir tømd. \n",
    "% Profilen til tanken er gitt ved R(x) under.\n",
    "% Vi tar utgongspunkt i Torrichellis lov, V'(t) = -k sqrt(h), for\n",
    "% å bestemme høgda som funksjona av tid, som vi i sin tur brukar\n",
    "% til å bestemme volumet av det som har runne ut ved integrasjon.\n",
    "\n",
    "% Startkrav:\n",
    "t0=0;\n",
    "tf=1.9160;\n",
    "h0=60;\n",
    "t=t0; h=h0; Volum=0;\n",
    "\n",
    "% Parametrar\n",
    "Vtot=2.0547e+04;\n",
    "% Konstanten k:\n",
    "k=2*Vtot/(3*sqrt(h0));\n",
    "\n",
    "% Profil-funksjon\n",
    "R=@(x) 5+4/(1+exp((35-x)/1.5))*(sqrt(x)-sqrt(30))^2;\n",
    "% Høgresida i differensaillikninga h'=F(h)\n",
    "F=@(x) -k*sqrt(x)/(pi*R(x)^2);\n",
    "\n",
    "% Oppdeling i Eulers-metode og Riemann-integrasjon\n",
    "%N=input('Oppdelinga: ');\n",
    "N=10\n",
    "dt=(tf-t0)/N;\n",
    "\n",
    "% Vektorar til plotting\n",
    "tVektor=t0:dt:tf;\n",
    "hVektor=zeros(1,N+1); hVektor(1)=h0;\n",
    "VolumVektor=zeros(1,N+1); VolumVektor(1)=h0;\n",
    "\n",
    "for n=1:N\n",
    "  h=h+F(h)*dt;                  % Eulers meotde\n",
    "  hVektor(n+1)=h;\n",
    "  Volum=Volum+k*sqrt(h)*dt;     % Oppdaterar volum ved eit Riemann-integral\n",
    "  VolumVektor(n+1)=Volum;\n",
    "end\n",
    "\n",
    "% Plottar resultatet\n",
    "plot(tVektor,real(VolumVektor)/1e4,'b-','linewidth',2)\n",
    "\n",
    "\n",
    "% Plottar tilsvarende funksjon for sylindertårnet\n",
    "H=60;                           % Høgde\n",
    "% Funksjon for vasshøgda i sylindertårn\n",
    "SylFunk=@(t) (sqrt(H)-k*H/2/Vtot*t).^2;\n",
    "xx=0:1e-2:3;                    % Tids-vektor\n",
    "hold on\n",
    "% Volum: Høgd gange grunnflate, grunnflata er totalvolum delt å høgda\n",
    "plot(xx,(Vtot-SylFunk(xx)*Vtot/H)/1e4,'r-','linewidth',2)\n",
    "\n",
    "% Linje som markerar totalvolumet\n",
    "plot([0 3], [Vtot Vtot]/1e4, 'k--','linewidth',1.2)\n",
    "% Forklarar grafane\n",
    "legend('Svampen','Sylinder','Totalt volum','location','southeast')\n",
    "% Tekst på aksane\n",
    "xlabel('Tid [døgn]'); ylabel('Volum [10^4 m^3]')\n",
    "% Justerar aksane\n",
    "axis([0 3 0 1.1*Vtot/1e4])\n",
    "% Justerar skriftstorleiken\n",
    "set(gca,'fontsize',15)\n",
    "hold off\n",
    "\n"
   ]
  },
  {
   "cell_type": "code",
   "execution_count": 12,
   "id": "9b6533ed-640d-4b65-b95d-858895abedf7",
   "metadata": {},
   "outputs": [
    {
     "data": {
      "text/html": [
       "<html><body><pre>dt = 0.5000</pre></body></html>"
      ],
      "text/plain": [
       "dt = 0.5000"
      ]
     },
     "execution_count": 12,
     "metadata": {},
     "output_type": "execute_result"
    },
    {
     "data": {
      "text/html": [
       "<html><body><pre>t = 2.5000</pre></body></html>"
      ],
      "text/plain": [
       "t = 2.5000"
      ]
     },
     "execution_count": 12,
     "metadata": {},
     "output_type": "execute_result"
    }
   ],
   "source": [
    "% ToemmeTank.m\n",
    "\n",
    "% Skript som bestemmer kor lang tid det å tømme ein tank.\n",
    "% Profilen til tanken er gitt ved R(x) under.\n",
    "% Vi tar utgangspunkt i Torricellis lov, V'(t) = -k sqrt(h).\n",
    "\n",
    "% Startkrav:\n",
    "t0=0;\n",
    "h0=60;\n",
    "t=t0; h=h0;\n",
    "\n",
    "% Parametrar\n",
    "Vtot=2.0547e+04;\n",
    "k=2*Vtot/(3*sqrt(h0));\n",
    "\n",
    "% Profilfunksjon\n",
    "R=@(x) 5+4./(1+exp((35-x)/1.5)).*(sqrt(x)-sqrt(30)).^2;\n",
    "% Høgresida i differensiallikninga\n",
    "F=@(x) -k*sqrt(x)./(pi*R(x).^2);\n",
    "\n",
    "% Steglengde\n",
    "%dt=input('Steglengda i tid: ');\n",
    "dt=0.5\n",
    "\n",
    "while h>0\n",
    "  h=h+F(h)*dt;       % Eulers metode\n",
    "  t=t+dt;\n",
    "end\n",
    "\n",
    "% Skriv slutttida til skjerm\n",
    "t\n"
   ]
  },
  {
   "cell_type": "code",
   "execution_count": 13,
   "id": "797e07b7-9fcf-4b5f-8beb-f88af919bcae",
   "metadata": {},
   "outputs": [
    {
     "data": {
      "text/html": [
       "<html><body><pre>n = 10</pre></body></html>"
      ],
      "text/plain": [
       "n = 10"
      ]
     },
     "execution_count": 13,
     "metadata": {},
     "output_type": "execute_result"
    },
    {
     "data": {
      "text/html": [
       "<html><body><pre>Volum = 2.1108e+04</pre></body></html>"
      ],
      "text/plain": [
       "Volum = 2.1108e+04"
      ]
     },
     "execution_count": 13,
     "metadata": {},
     "output_type": "execute_result"
    }
   ],
   "source": [
    "% VolumSvampen.m\n",
    "\n",
    "% Skript som brukar trapesmetoden til å rekne ut volumet\n",
    "% av eit vasstårn ut frå ein gitt modell for profilen\n",
    "\n",
    "% Grenser (høgda)\n",
    "a=0;b=60;\n",
    "\n",
    "% Profil på tårn\n",
    "R=@(x) 5+4./(1+exp((35-x)/1.5)).*(sqrt(x)-sqrt(30)).^2;\n",
    "% Integrand\n",
    "f=@(x) R(x).^2;\n",
    "\n",
    "% Oppdeling\n",
    "%n=input('Gi oppdelinga n: ');\n",
    "n=10\n",
    "h=(b-a)/n;                  % Steglengda\n",
    "\n",
    "% Bidrag frå endane\n",
    "T=h/2*(f(a)+f(b));\n",
    "\n",
    "% Resten av bidraga\n",
    "for i=1:(n-1)\n",
    "    xi=a+i*h;\n",
    "    T=T+h*f(xi);\n",
    "end\n",
    "\n",
    "% Skriv volumet til skjerm\n",
    "Volum=pi*T\n"
   ]
  }
 ],
 "metadata": {
  "kernelspec": {
   "display_name": "MATLAB Kernel",
   "language": "matlab",
   "name": "jupyter_matlab_kernel"
  },
  "language_info": {
   "file_extension": ".m",
   "mimetype": "text/x-matlab",
   "name": "matlab"
  }
 },
 "nbformat": 4,
 "nbformat_minor": 5
}
