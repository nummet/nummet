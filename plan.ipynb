{
 "cells": [
  {
   "cell_type": "markdown",
   "id": "fb77397f-8856-4cc1-bef4-2c1087e011c8",
   "metadata": {},
   "source": [
    "# Plan og status for porting av kode"
   ]
  },
  {
   "cell_type": "markdown",
   "id": "848816fe-9de4-49be-b25f-92e98eb321d4",
   "metadata": {},
   "source": [
    "- 1\n",
    "- 2\n",
    "- 3\n",
    "- 4 Første versjon: Uke 8\n",
    "- 5 Første versjon: Uke 8\n",
    "- 6 Første versjon: Uke 9\n",
    "- 7 Første versjon: Uke 9\n",
    "- 8 Første versjon: Uke 10\n",
    "- 9 Første versjon: Uke 11\n",
    "- 10 Første versjon: Uke 12\n",
    "- 11 Første versjon: Uke 13\n",
    "- 12 Første versjon: Uke 14\n",
    "- 13 Første versjon: Uke 15\n",
    "- 14 Første versjon: Uke 16\n",
    "- 15 Første versjon: Uke 17\n",
    "- 16 Første versjon: Uke 18\n",
    "- 17 Første versjon: Uke 19\n",
    "- 18 Første versjon: Uke 20"
   ]
  },
  {
   "cell_type": "markdown",
   "id": "95412999-9fee-4de1-9cc7-056bd8810a02",
   "metadata": {},
   "source": [
    "| Kapittel | Første versjon | Linting | Pythonisert | QA | I manus | Første versjon | Linting | Pythonisert | QA | I manus |\n",
    "| :---: | :---: | :---: | :---: | :---: | :---: | :---: | :---: | :---: | :---: | :---: |\r\n",
    "|1  |☑  |☐  |☐  |☐  |☐  |☐  |☐  |☐  |☐ | ☐ ||| 2 | ☑ | ☐ | ☐ | ☐ | ☐ | ☐ | ☐ | ☐ | ☐ | ☐ |\r\n",
    "| 3 | ☑ | ☐ | ☐ | ☐ | ☐ | ☐ | ☐ | ☐ | ☐ | ☐ |\r\n",
    "| 4 | ☐ | ☐ | ☐ | ☐ | ☐ | ☐ | ☐ | ☐ | ☐ | ☐ |\r\n",
    "| 5 | ☐ | ☐ | ☐ | ☐ | ☐ | ☐ | ☐ | ☐ | ☐ | ☐ |\r\n",
    "| 6 | ☐ | ☐ | ☐ | ☐ | ☐ | ☐ | ☐ | ☐ | ☐ | ☐ |\r\n",
    "| 7 | ☐ | ☐ | ☐ | ☐ | ☐ | ☐ | ☐ | ☐ | ☐ | ☐ |\r\n",
    "| 8 | ☐ | ☐ | ☐ | ☐ | ☐ | ☐ | ☐ | ☐ | ☐ | ☐ |\r\n",
    "| 9 | ☐ | ☐ | ☐ | ☐ | ☐ | ☐ | ☐ | ☐ | ☐ | ☐ |\r\n",
    "| 10 | ☐ | ☐ | ☐ | ☐ | ☐ | ☐ | ☐ | ☐ | ☐ | ☐ |\r\n",
    "| 11 | ☐ | ☐ | ☐ | ☐ | ☐ | ☐ | ☐ | ☐ | ☐ | ☐ |\r\n",
    "| 12 | ☐ | ☐ | ☐ | ☐ | ☐ | ☐ | ☐ | ☐ | ☐ | ☐ |\r\n",
    "| 13 | ☐ | ☐ | ☐ | ☐ | ☐ | ☐ | ☐ | ☐ | ☐ | ☐ |\r\n",
    "| 14 | ☐ | ☐ | ☐ | ☐ | ☐ | ☐ | ☐ | ☐ | ☐ | ☐ |\r\n",
    "| 15 | ☐ | ☐ | ☐ | ☐ | ☐ | ☐ | ☐ | ☐ | ☐ | ☐ |\r\n",
    "| 16 | ☐ | ☐ | ☐ | ☐ | ☐ | ☐ | ☐ | ☐ | ☐ | ☐ |\r\n",
    "| 17 | ☐ | ☐ | ☐ | ☐ | ☐ | ☐ | ☐ | ☐ | ☐ | ☐ |\r\n",
    "| 18 | ☐ | ☐ | ☐ | ☐ | ☐ | ☐ | ☐ | ☐ | ☐ | ☐ ||  |  |  |  |  |  |\r\n"
   ]
  },
  {
   "cell_type": "code",
   "execution_count": null,
   "id": "320f7741-ad2f-4ecc-af67-129b7f41767d",
   "metadata": {},
   "outputs": [],
   "source": []
  }
 ],
 "metadata": {
  "kernelspec": {
   "display_name": "Python 3 (ipykernel)",
   "language": "python",
   "name": "python3"
  },
  "language_info": {
   "codemirror_mode": {
    "name": "ipython",
    "version": 3
   },
   "file_extension": ".py",
   "mimetype": "text/x-python",
   "name": "python",
   "nbconvert_exporter": "python",
   "pygments_lexer": "ipython3",
   "version": "3.11.5"
  }
 },
 "nbformat": 4,
 "nbformat_minor": 5
}
