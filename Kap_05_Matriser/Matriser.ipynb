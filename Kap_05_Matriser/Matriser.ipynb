{
 "cells": [
  {
   "cell_type": "markdown",
   "id": "cc46a4bf-944f-41b7-9b8c-013a1e30b654",
   "metadata": {},
   "source": [
    "# Kapittel 5"
   ]
  },
  {
   "cell_type": "code",
   "execution_count": 8,
   "id": "0d2cb22d-da3a-4d67-b03c-24c07909a0b5",
   "metadata": {},
   "outputs": [
    {
     "name": "stdout",
     "output_type": "stream",
     "text": [
      "[[1 0 0 0 1]\n",
      " [0 1 0 0 2]\n",
      " [0 0 1 0 3]\n",
      " [0 0 0 1 4]]\n"
     ]
    }
   ],
   "source": [
    "\"\"\"\n",
    "Dette skriptet rekkereduserar ei matrise, typisk \n",
    "totalmatrisa til eit lineært likningssystemt, til \n",
    "redusert trappeform og skriv resultatet til skjerm.\n",
    "\"\"\"\n",
    "\n",
    "# Importerar NumPy og SymPy\n",
    "import numpy as np\n",
    "import sympy\n",
    "\n",
    "# Sett antall desimalar vi skriv til skjerm for NumPy\n",
    "np.set_printoptions(precision=4, floatmode='fixed', suppress=True)\n",
    "\n",
    "# Tilordnar totalmatrisa \n",
    "T = np.array([[5, 1, 1, -2, 2],\n",
    "              [1, -1, 1, 7, 30],\n",
    "              [2, 1, 0, -5, -16],\n",
    "              [2, 0, 1, 3, 17]])\n",
    "\n",
    "\n",
    "R = sympy.Matrix(T).rref()[0]    # Rekkereduserar\n",
    "R = np.array(R)                  # Konverterar til array\n",
    "print(R)                         # Skriv til skjerm"
   ]
  },
  {
   "cell_type": "code",
   "execution_count": 9,
   "id": "8d83b83b-36dc-4436-919d-8f55e5756157",
   "metadata": {},
   "outputs": [
    {
     "name": "stdout",
     "output_type": "stream",
     "text": [
      "A*B:\n",
      "[[ -2  -2   0]\n",
      " [  0   5   0]\n",
      " [ 49 -16   9]]\n",
      "B*A:\n",
      "[[ -2  -2   0]\n",
      " [  0   5   0]\n",
      " [ 49 -16   9]]\n",
      "A@B:\n",
      "[[ 19  -5   3]\n",
      " [ 34 -11   6]\n",
      " [ 49 -17   9]]\n",
      "B@A:\n",
      "[[ -6  -9 -12]\n",
      " [  4   5   6]\n",
      " [  6  12  18]]\n",
      "multiply(A, B):\n",
      "[[ -2  -2   0]\n",
      " [  0   5   0]\n",
      " [ 49 -16   9]]\n",
      "matmul(A, B):\n",
      "[[ 19  -5   3]\n",
      " [ 34 -11   6]\n",
      " [ 49 -17   9]]\n"
     ]
    }
   ],
   "source": [
    "\"\"\"\n",
    "Her reknar vi ut produktet av to kvadratiske \n",
    "matriser - på ulike måtar.\n",
    "\"\"\"\n",
    "\n",
    "# Importerar NumPy\n",
    "import numpy as np\n",
    "\n",
    "# Sett antall desimalar vi skriv til skjerm for NumPy\n",
    "np.set_printoptions(precision=4, floatmode='fixed', suppress=True)\n",
    "\n",
    "# Tilordnar to matriser\n",
    "A = np.array([[1, 2, 3],\n",
    "              [4, 5, 6],\n",
    "              [7, 8, 9]])\n",
    "B = np.array([[-2, -1, 0],\n",
    "              [0, 1, 0],\n",
    "              [7, -2, 1]])\n",
    "\n",
    "# Med *-produkt\n",
    "print('A*B:')\n",
    "print(A*B)\n",
    "print('B*A:')\n",
    "print(B*A)\n",
    "\n",
    "# Med @-produkt\n",
    "print('A@B:')\n",
    "print(A@B)\n",
    "print('B@A:')\n",
    "print(B@A)\n",
    "\n",
    "# Med multiply\n",
    "print('multiply(A, B):')\n",
    "print(np.multiply(A, B))\n",
    "\n",
    "\n",
    "# Med matmul\n",
    "print('matmul(A, B):')\n",
    "print(np.matmul(A, B))\n"
   ]
  },
  {
   "cell_type": "code",
   "execution_count": 10,
   "id": "ae8d0e63-65a6-4f9e-b9f9-787fb82ad70e",
   "metadata": {},
   "outputs": [
    {
     "name": "stdout",
     "output_type": "stream",
     "text": [
      "[[ 0.1000  0.2000  0.1000]\n",
      " [-0.1000  0.0500  0.1500]\n",
      " [ 0.0000 -0.2500  0.7500]]\n",
      "[[ 1.0000 -0.0000  0.0000]\n",
      " [-0.0000  1.0000  0.0000]\n",
      " [-0.0000  0.0000  1.0000]]\n"
     ]
    }
   ],
   "source": [
    "\"\"\"\n",
    "I dette skriptet tilordnar vi ei kvadratisk matrise \n",
    "og inverterar ho.\n",
    "Inversmatrisa blir skriven til skjerm.\n",
    "\"\"\"\n",
    "\n",
    "# Importerar numpy\n",
    "import numpy as np\n",
    "\n",
    "# Sett antall desimalar vi skriv til skjerm for NumPy\n",
    "np.set_printoptions(precision=4, floatmode='fixed', suppress=True)\n",
    "\n",
    "# Tilordnar matrisa\n",
    "A = np.array([[3, -7, 1],\n",
    "              [3, 3, -1],\n",
    "              [1, 1, 1]])\n",
    "\n",
    "# Inverterar og skriv resultatet til skjerm\n",
    "Ainv = np.linalg.inv(A)\n",
    "print(Ainv)\n",
    "\n",
    "# Sjekkar at produktet blir I\n",
    "Prod = np.matmul(A, Ainv)\n",
    "print(Prod)"
   ]
  },
  {
   "cell_type": "code",
   "execution_count": 11,
   "id": "474e350d-a07f-48d2-97d5-6b7695deebe8",
   "metadata": {},
   "outputs": [
    {
     "name": "stdout",
     "output_type": "stream",
     "text": [
      "[ 6.6970+0.3530j -1.8490-0.1760j -3.3940-0.7060j -1.7980-1.2350j]\n"
     ]
    }
   ],
   "source": [
    "\"\"\"\n",
    "I dette skriptet forsøker vi å løyse eit likningssystem \n",
    "ved å invertere koeffisientmatrisa.\n",
    "Dette gir berre meining når vi har like mange likningar \n",
    "og ukjende - altså  når koeffisientmatrisa er kvadratisk.\n",
    "\"\"\"\n",
    "\n",
    "# Importerar numpy\n",
    "import numpy as np\n",
    "\n",
    "# Sett antall desimalar vi skriv til skjerm for NumPy\n",
    "np.set_printoptions(precision=4, floatmode='fixed', suppress=True)\n",
    "\n",
    "# Tilordnar matrisa\n",
    "A = np.array([[1, 2, 0, 0],\n",
    "             [1, -2, 1, 0],\n",
    "             [0, 1, -2, 1],\n",
    "             [0, 0, 1, -3]])\n",
    "\n",
    "# Hoegresida (som vektor)\n",
    "b = np.array([3, 7, np.pi, 2+3j])\n",
    "\n",
    "# Reknar ut løysinga og skriv ho til skjerm\n",
    "Ainv = np.linalg.inv(A)\n",
    "x = np.matmul(Ainv, b)\n",
    "print(np.round(x, 3))"
   ]
  },
  {
   "cell_type": "code",
   "execution_count": 12,
   "id": "5c6b2d36-3964-491a-af49-93fadffad839",
   "metadata": {},
   "outputs": [
    {
     "name": "stdout",
     "output_type": "stream",
     "text": [
      "[[0.0000 0.0000 0.0000]\n",
      " [0.0000 0.0000 0.0000]\n",
      " [0.0000 0.0000 0.0000]]\n"
     ]
    }
   ],
   "source": [
    "\"\"\"\n",
    "Dette skriptet testar kandidatar til reknereglar for matriser. For å teste \n",
    "brukar vi 3*3-matriser med tilfeldige tal mellom -5 og 5.\n",
    "\"\"\"\n",
    "\n",
    "# Importerar NumPy\n",
    "import numpy as np\n",
    "\n",
    "# Lagar matriser med tilfeldige tal\n",
    "A = 10*(np.random.rand(3, 3) - 0.5*np.ones((3,3)))\n",
    "B = 10*(np.random.rand(3, 3) - 0.5*np.ones((3,3)))\n",
    "\n",
    "# Venstresida i \"rekneregelen\"\n",
    "VS = A + B\n",
    "# Høgresida\n",
    "HS = B + A\n",
    "\n",
    "# Skriv differansen til skjerm - for å sjå om det blir nullmatrisa\n",
    "print(VS - HS)  "
   ]
  },
  {
   "cell_type": "code",
   "execution_count": 13,
   "id": "98ef3a74-e9e7-4ffa-b4e4-bbc424b0c3d9",
   "metadata": {},
   "outputs": [
    {
     "name": "stdout",
     "output_type": "stream",
     "text": [
      "Vektor med eigenverdiar:\n",
      "[4.0000 0.0000 2.0000]\n",
      "Matrise med eigenvektorar:\n",
      "[[-0.8165 -0.0000 -0.3889]\n",
      " [ 0.4082  0.7071  0.7130]\n",
      " [-0.4082 -0.7071 -0.5834]]\n",
      "VS i karakteristisk likning:  -3.197442310920445e-14\n",
      "Produktet Vinv A V: \n",
      "[[ 4.0000 -0.0000 -0.0000]\n",
      " [-0.0000  0.0000 -0.0000]\n",
      " [ 0.0000 -0.0000  2.0000]]\n"
     ]
    },
    {
     "name": "stderr",
     "output_type": "stream",
     "text": [
      "<>:1: SyntaxWarning: invalid escape sequence '\\l'\n",
      "<>:1: SyntaxWarning: invalid escape sequence '\\l'\n",
      "/tmp/ipykernel_74140/4068274401.py:1: SyntaxWarning: invalid escape sequence '\\l'\n",
      "  \"\"\" Skriptet finn eigenverdiar og eigenvektorar til ei matrise.\n"
     ]
    }
   ],
   "source": [
    "\"\"\" Skriptet finn eigenverdiar og eigenvektorar til ei matrise. \n",
    "I tillegg til å skrive ut desse, sjekkar også skriptet om\n",
    "den karakteristiske likninga, det(A - \\lambda I) = 0, er\n",
    "oppfylt - og at V^{-1} A V, der V har eigenvektorane som\n",
    "søyler, blir ei diagonalmatrise med eigenverdiane langs \n",
    "diagonalen.\n",
    "\"\"\"\n",
    "\n",
    "# Importerar NumPy\n",
    "import numpy as np\n",
    "\n",
    "# Sett antall desimalar vi skriv til skjerm for NumPy\n",
    "np.set_printoptions(precision=4, floatmode='fixed', suppress=True)\n",
    "\n",
    "# Tilordnar matrisa\n",
    "A = np.array([[4, 6, 6],\n",
    "              [-2, 5, 5],\n",
    "              [2, -3, -3]])\n",
    "\n",
    "# Finn eigenverdiar og eigenvektorar\n",
    "Lambda, V = np.linalg.eig(A)\n",
    "\n",
    "#Skriv verdiane til skjerm\n",
    "print('Vektor med eigenverdiar:')\n",
    "print(Lambda)\n",
    "print('Matrise med eigenvektorar:')\n",
    "print(V)\n",
    "\n",
    "# Sjekkar den karakterstiske likninga\n",
    "EigenVerdi = Lambda[0]\n",
    "Rot = np.linalg.det(A - EigenVerdi*np.eye(3)) \n",
    "print('VS i karakteristisk likning: ', Rot)\n",
    "\n",
    "# Sjekkar diagonaliseringa\n",
    "Vinv = np.linalg.inv(V)            # Inverterar \n",
    "D = np.matmul(Vinv, np.matmul(A, V))      \n",
    "print('Produktet Vinv A V: ')\n",
    "print(np.round(D, 4))      "
   ]
  },
  {
   "cell_type": "code",
   "execution_count": 14,
   "id": "b6917e51-96cc-4bf7-9487-73963d125a28",
   "metadata": {},
   "outputs": [
    {
     "name": "stdout",
     "output_type": "stream",
     "text": [
      "[[ 1  2  3]\n",
      " [ 0 -3 -6]]\n",
      "[[1 2 3]\n",
      " [0 1 2]]\n",
      "[[ 1  0 -1]\n",
      " [ 0  1  2]]\n"
     ]
    }
   ],
   "source": [
    "\"\"\"\n",
    "Dette skriptet definerar funksjonar som implementerar \n",
    "dei tre typane rekkeoperasjonar vi kan gjere på ei matrise.\n",
    "Den brukar så desse funksjonane til å rekkeoperere på \n",
    "ei gitt matrise.\n",
    "\"\"\"\n",
    "\n",
    "# Importerar NumPy\n",
    "import numpy as np\n",
    "\n",
    "# Sett antall desimalar vi skriv til skjerm for NumPy\n",
    "np.set_printoptions(precision=4, floatmode='fixed', suppress=True)\n",
    "\n",
    "# Tilordnar ei matrise\n",
    "A = np.array([[1, 2, 3],\n",
    "              [4, 5, 6]])\n",
    "             \n",
    "# Funksjon som gangar rekke n med talet k\n",
    "def GangeRekke(A, n, k):\n",
    "    B = np.copy(A)\n",
    "    B[n, :] = k*A[n, :]\n",
    "    return B\n",
    "\n",
    "# Funksjon som byter om på rekke m og n\n",
    "def ByteRekker(A, m, n):\n",
    "    B = np.copy(A)\n",
    "    B[m, :] = A[n, :]\n",
    "    B[n, :] = A[m, :]\n",
    "    return B    \n",
    "\n",
    "# Funksjon som legg k gonger rekke m til rekke n\n",
    "def LeggeTilMult(A, m, n, k):\n",
    "    B = np.copy(A)\n",
    "    B[n, :] = A[n, :] + k*A[m, :]\n",
    "    return B\n",
    "\n",
    "# Utfører rekkeoperasjonar på A\n",
    "A1 = LeggeTilMult(A, 0, 1, -4)\n",
    "print(A1)\n",
    "\n",
    "A2 = GangeRekke(A1, 1, -1/3)\n",
    "print(A2)\n",
    "\n",
    "A3 = LeggeTilMult(A2, 1, 0, -2)\n",
    "print(A3)            \n",
    "             "
   ]
  },
  {
   "cell_type": "code",
   "execution_count": null,
   "id": "6d389561-0805-494c-a9db-5cd55aae2cd5",
   "metadata": {},
   "outputs": [],
   "source": []
  }
 ],
 "metadata": {
  "kernelspec": {
   "display_name": "Python 3 (ipykernel)",
   "language": "python",
   "name": "python3"
  },
  "language_info": {
   "codemirror_mode": {
    "name": "ipython",
    "version": 3
   },
   "file_extension": ".py",
   "mimetype": "text/x-python",
   "name": "python",
   "nbconvert_exporter": "python",
   "pygments_lexer": "ipython3",
   "version": "3.12.4"
  }
 },
 "nbformat": 4,
 "nbformat_minor": 5
}
